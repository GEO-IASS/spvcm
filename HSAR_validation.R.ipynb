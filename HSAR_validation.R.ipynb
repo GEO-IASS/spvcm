{
 "cells": [
  {
   "cell_type": "code",
   "execution_count": 1,
   "metadata": {
    "collapsed": false,
    "scrolled": true
   },
   "outputs": [
    {
     "name": "stderr",
     "output_type": "stream",
     "text": [
      "/home/ljw/.local/lib/python2.7/site-packages/ipykernel/__main__.py:45: ComplexWarning: Casting complex values to real discards the imaginary part\n",
      "/home/ljw/.local/lib/python2.7/site-packages/ipykernel/__main__.py:46: ComplexWarning: Casting complex values to real discards the imaginary part\n",
      "/home/ljw/.local/lib/python2.7/site-packages/rpy2/robjects/functions.py:106: UserWarning: Loading required package: coda\n",
      "\n",
      "  res = super(Function, self).__call__(*new_args, **new_kwargs)\n",
      "/home/ljw/.local/lib/python2.7/site-packages/rpy2/robjects/functions.py:106: UserWarning: Loading required package: MASS\n",
      "\n",
      "  res = super(Function, self).__call__(*new_args, **new_kwargs)\n",
      "/home/ljw/.local/lib/python2.7/site-packages/rpy2/robjects/functions.py:106: UserWarning: ##\n",
      "## Markov Chain Monte Carlo Package (MCMCpack)\n",
      "\n",
      "  res = super(Function, self).__call__(*new_args, **new_kwargs)\n",
      "/home/ljw/.local/lib/python2.7/site-packages/rpy2/robjects/functions.py:106: UserWarning: ## Copyright (C) 2003-2015 Andrew D. Martin, Kevin M. Quinn, and Jong Hee Park\n",
      "\n",
      "  res = super(Function, self).__call__(*new_args, **new_kwargs)\n",
      "/home/ljw/.local/lib/python2.7/site-packages/rpy2/robjects/functions.py:106: UserWarning: ##\n",
      "## Support provided by the U.S. National Science Foundation\n",
      "\n",
      "  res = super(Function, self).__call__(*new_args, **new_kwargs)\n",
      "/home/ljw/.local/lib/python2.7/site-packages/rpy2/robjects/functions.py:106: UserWarning: ## (Grants SES-0350646 and SES-0350613)\n",
      "##\n",
      "\n",
      "  res = super(Function, self).__call__(*new_args, **new_kwargs)\n",
      "/home/ljw/.local/lib/python2.7/site-packages/rpy2/robjects/functions.py:106: UserWarning: Loading required package: sp\n",
      "\n",
      "  res = super(Function, self).__call__(*new_args, **new_kwargs)\n",
      "/home/ljw/.local/lib/python2.7/site-packages/rpy2/robjects/functions.py:106: UserWarning: Loading required package: Matrix\n",
      "\n",
      "  res = super(Function, self).__call__(*new_args, **new_kwargs)\n",
      "/home/ljw/.local/lib/python2.7/site-packages/rpy2/robjects/functions.py:106: UserWarning: Loading required package: startupmsg\n",
      "\n",
      "  res = super(Function, self).__call__(*new_args, **new_kwargs)\n",
      "/home/ljw/.local/lib/python2.7/site-packages/rpy2/robjects/functions.py:106: UserWarning: :startupmsg>  Utilities for start-up messages (version 0.9)\n",
      "\n",
      "  res = super(Function, self).__call__(*new_args, **new_kwargs)\n",
      "/home/ljw/.local/lib/python2.7/site-packages/rpy2/robjects/functions.py:106: UserWarning: :startupmsg> \n",
      "\n",
      "  res = super(Function, self).__call__(*new_args, **new_kwargs)\n",
      "/home/ljw/.local/lib/python2.7/site-packages/rpy2/robjects/functions.py:106: UserWarning: :startupmsg>  For more information see ?\"startupmsg\",\n",
      "\n",
      "  res = super(Function, self).__call__(*new_args, **new_kwargs)\n",
      "/home/ljw/.local/lib/python2.7/site-packages/rpy2/robjects/functions.py:106: UserWarning: :startupmsg>  NEWS(\"startupmsg\")\n",
      "\n",
      "  res = super(Function, self).__call__(*new_args, **new_kwargs)\n",
      "/home/ljw/.local/lib/python2.7/site-packages/rpy2/robjects/functions.py:106: UserWarning: \n",
      "\n",
      "  res = super(Function, self).__call__(*new_args, **new_kwargs)\n",
      "/home/ljw/.local/lib/python2.7/site-packages/rpy2/robjects/functions.py:106: UserWarning: Loading required package: sfsmisc\n",
      "\n",
      "  res = super(Function, self).__call__(*new_args, **new_kwargs)\n",
      "/home/ljw/.local/lib/python2.7/site-packages/rpy2/robjects/functions.py:106: UserWarning: Loading required package: SweaveListingUtils\n",
      "\n",
      "  res = super(Function, self).__call__(*new_args, **new_kwargs)\n",
      "/home/ljw/.local/lib/python2.7/site-packages/rpy2/robjects/functions.py:106: UserWarning: :SweaveListingUtils>  Utilities for Sweave together with\n",
      "\n",
      "  res = super(Function, self).__call__(*new_args, **new_kwargs)\n",
      "/home/ljw/.local/lib/python2.7/site-packages/rpy2/robjects/functions.py:106: UserWarning: :SweaveListingUtils>  TeX listings package (version\n",
      "\n",
      "  res = super(Function, self).__call__(*new_args, **new_kwargs)\n",
      "/home/ljw/.local/lib/python2.7/site-packages/rpy2/robjects/functions.py:106: UserWarning: :SweaveListingUtils>  0.6.2)\n",
      "\n",
      "  res = super(Function, self).__call__(*new_args, **new_kwargs)\n",
      "/home/ljw/.local/lib/python2.7/site-packages/rpy2/robjects/functions.py:106: UserWarning: :SweaveListingUtils> \n",
      "\n",
      "  res = super(Function, self).__call__(*new_args, **new_kwargs)\n",
      "/home/ljw/.local/lib/python2.7/site-packages/rpy2/robjects/functions.py:106: UserWarning: :SweaveListingUtils>  NOTE: Support for this package\n",
      "\n",
      "  res = super(Function, self).__call__(*new_args, **new_kwargs)\n",
      "/home/ljw/.local/lib/python2.7/site-packages/rpy2/robjects/functions.py:106: UserWarning: :SweaveListingUtils>  will stop soon.\n",
      "\n",
      "  res = super(Function, self).__call__(*new_args, **new_kwargs)\n",
      "/home/ljw/.local/lib/python2.7/site-packages/rpy2/robjects/functions.py:106: UserWarning: :SweaveListingUtils>  Package 'knitr' is providing the\n",
      "\n",
      "  res = super(Function, self).__call__(*new_args, **new_kwargs)\n",
      "/home/ljw/.local/lib/python2.7/site-packages/rpy2/robjects/functions.py:106: UserWarning: :SweaveListingUtils>  same functionality in a better\n",
      "\n",
      "  res = super(Function, self).__call__(*new_args, **new_kwargs)\n",
      "/home/ljw/.local/lib/python2.7/site-packages/rpy2/robjects/functions.py:106: UserWarning: :SweaveListingUtils>  way.\n",
      "\n",
      "  res = super(Function, self).__call__(*new_args, **new_kwargs)\n",
      "/home/ljw/.local/lib/python2.7/site-packages/rpy2/robjects/functions.py:106: UserWarning: :SweaveListingUtils>  Some functions from package 'base'\n",
      "\n",
      "  res = super(Function, self).__call__(*new_args, **new_kwargs)\n",
      "/home/ljw/.local/lib/python2.7/site-packages/rpy2/robjects/functions.py:106: UserWarning: :SweaveListingUtils>  are intentionally masked ---see\n",
      "\n",
      "  res = super(Function, self).__call__(*new_args, **new_kwargs)\n",
      "/home/ljw/.local/lib/python2.7/site-packages/rpy2/robjects/functions.py:106: UserWarning: :SweaveListingUtils>  SweaveListingMASK().\n",
      "\n",
      "  res = super(Function, self).__call__(*new_args, **new_kwargs)\n",
      "/home/ljw/.local/lib/python2.7/site-packages/rpy2/robjects/functions.py:106: UserWarning: :SweaveListingUtils>  Note that global options are\n",
      "\n",
      "  res = super(Function, self).__call__(*new_args, **new_kwargs)\n",
      "/home/ljw/.local/lib/python2.7/site-packages/rpy2/robjects/functions.py:106: UserWarning: :SweaveListingUtils>  controlled by\n",
      "\n",
      "  res = super(Function, self).__call__(*new_args, **new_kwargs)\n",
      "/home/ljw/.local/lib/python2.7/site-packages/rpy2/robjects/functions.py:106: UserWarning: :SweaveListingUtils>  SweaveListingoptions() ---c.f.\n",
      "\n",
      "  res = super(Function, self).__call__(*new_args, **new_kwargs)\n",
      "/home/ljw/.local/lib/python2.7/site-packages/rpy2/robjects/functions.py:106: UserWarning: :SweaveListingUtils>  ?\"SweaveListingoptions\".\n",
      "\n",
      "  res = super(Function, self).__call__(*new_args, **new_kwargs)\n",
      "/home/ljw/.local/lib/python2.7/site-packages/rpy2/robjects/functions.py:106: UserWarning: :SweaveListingUtils>  For more information see\n",
      "\n",
      "  res = super(Function, self).__call__(*new_args, **new_kwargs)\n",
      "/home/ljw/.local/lib/python2.7/site-packages/rpy2/robjects/functions.py:106: UserWarning: :SweaveListingUtils>  ?\"SweaveListingUtils\",\n",
      "\n",
      "  res = super(Function, self).__call__(*new_args, **new_kwargs)\n",
      "/home/ljw/.local/lib/python2.7/site-packages/rpy2/robjects/functions.py:106: UserWarning: :SweaveListingUtils>  NEWS(\"SweaveListingUtils\")\n",
      "\n",
      "  res = super(Function, self).__call__(*new_args, **new_kwargs)\n",
      "/home/ljw/.local/lib/python2.7/site-packages/rpy2/robjects/functions.py:106: UserWarning: :SweaveListingUtils>  There is a vignette to this\n",
      "\n",
      "  res = super(Function, self).__call__(*new_args, **new_kwargs)\n",
      "/home/ljw/.local/lib/python2.7/site-packages/rpy2/robjects/functions.py:106: UserWarning: :SweaveListingUtils>  package; try\n",
      "\n",
      "  res = super(Function, self).__call__(*new_args, **new_kwargs)\n",
      "/home/ljw/.local/lib/python2.7/site-packages/rpy2/robjects/functions.py:106: UserWarning: :SweaveListingUtils>  vignette(\"ExampleSweaveListingUtils\").\n",
      "\n",
      "  res = super(Function, self).__call__(*new_args, **new_kwargs)\n",
      "/home/ljw/.local/lib/python2.7/site-packages/rpy2/robjects/functions.py:106: UserWarning: \n",
      "Attaching package: ‘SweaveListingUtils’\n",
      "\n",
      "\n",
      "  res = super(Function, self).__call__(*new_args, **new_kwargs)\n",
      "/home/ljw/.local/lib/python2.7/site-packages/rpy2/robjects/functions.py:106: UserWarning: The following objects are masked from ‘package:base’:\n",
      "\n",
      "    library, require\n",
      "\n",
      "\n",
      "  res = super(Function, self).__call__(*new_args, **new_kwargs)\n",
      "/home/ljw/.local/lib/python2.7/site-packages/rpy2/robjects/functions.py:106: UserWarning: :distr>  Object oriented implementation of distributions (version\n",
      "\n",
      "  res = super(Function, self).__call__(*new_args, **new_kwargs)\n",
      "/home/ljw/.local/lib/python2.7/site-packages/rpy2/robjects/functions.py:106: UserWarning: :distr>  2.5.3)\n",
      "\n",
      "  res = super(Function, self).__call__(*new_args, **new_kwargs)\n",
      "/home/ljw/.local/lib/python2.7/site-packages/rpy2/robjects/functions.py:106: UserWarning: :distr> \n",
      "\n",
      "  res = super(Function, self).__call__(*new_args, **new_kwargs)\n",
      "/home/ljw/.local/lib/python2.7/site-packages/rpy2/robjects/functions.py:106: UserWarning: :distr>  Attention: Arithmetics on distribution objects are\n",
      "\n",
      "  res = super(Function, self).__call__(*new_args, **new_kwargs)\n",
      "/home/ljw/.local/lib/python2.7/site-packages/rpy2/robjects/functions.py:106: UserWarning: :distr>  understood as operations on corresponding random variables\n",
      "\n",
      "  res = super(Function, self).__call__(*new_args, **new_kwargs)\n",
      "/home/ljw/.local/lib/python2.7/site-packages/rpy2/robjects/functions.py:106: UserWarning: :distr>  (r.v.s); see distrARITH().\n",
      "\n",
      "  res = super(Function, self).__call__(*new_args, **new_kwargs)\n",
      "/home/ljw/.local/lib/python2.7/site-packages/rpy2/robjects/functions.py:106: UserWarning: :distr>  Some functions from package 'stats' are intentionally masked\n",
      "\n",
      "  res = super(Function, self).__call__(*new_args, **new_kwargs)\n",
      "/home/ljw/.local/lib/python2.7/site-packages/rpy2/robjects/functions.py:106: UserWarning: :distr>  ---see distrMASK().\n",
      "\n",
      "  res = super(Function, self).__call__(*new_args, **new_kwargs)\n",
      "/home/ljw/.local/lib/python2.7/site-packages/rpy2/robjects/functions.py:106: UserWarning: :distr>  Note that global options are controlled by distroptions()\n",
      "\n",
      "  res = super(Function, self).__call__(*new_args, **new_kwargs)\n",
      "/home/ljw/.local/lib/python2.7/site-packages/rpy2/robjects/functions.py:106: UserWarning: :distr>  ---c.f. ?\"distroptions\".\n",
      "\n",
      "  res = super(Function, self).__call__(*new_args, **new_kwargs)\n",
      "/home/ljw/.local/lib/python2.7/site-packages/rpy2/robjects/functions.py:106: UserWarning: :distr>  For more information see ?\"distr\", NEWS(\"distr\"), as well as\n",
      "\n",
      "  res = super(Function, self).__call__(*new_args, **new_kwargs)\n",
      "/home/ljw/.local/lib/python2.7/site-packages/rpy2/robjects/functions.py:106: UserWarning: :distr>    http://distr.r-forge.r-project.org/\n",
      "\n",
      "  res = super(Function, self).__call__(*new_args, **new_kwargs)\n",
      "/home/ljw/.local/lib/python2.7/site-packages/rpy2/robjects/functions.py:106: UserWarning: :distr>  Package \"distrDoc\" provides a vignette to this package as\n",
      "\n",
      "  res = super(Function, self).__call__(*new_args, **new_kwargs)\n",
      "/home/ljw/.local/lib/python2.7/site-packages/rpy2/robjects/functions.py:106: UserWarning: :distr>  well as to several extension packages; try\n",
      "\n",
      "  res = super(Function, self).__call__(*new_args, **new_kwargs)\n",
      "/home/ljw/.local/lib/python2.7/site-packages/rpy2/robjects/functions.py:106: UserWarning: :distr>  vignette(\"distr\").\n",
      "\n",
      "  res = super(Function, self).__call__(*new_args, **new_kwargs)\n",
      "/home/ljw/.local/lib/python2.7/site-packages/rpy2/robjects/functions.py:106: UserWarning: \n",
      "Attaching package: ‘distr’\n",
      "\n",
      "\n",
      "  res = super(Function, self).__call__(*new_args, **new_kwargs)\n",
      "/home/ljw/.local/lib/python2.7/site-packages/rpy2/robjects/functions.py:106: UserWarning: The following objects are masked from ‘package:stats’:\n",
      "\n",
      "    df, qqplot, sd\n",
      "\n",
      "\n",
      "  res = super(Function, self).__call__(*new_args, **new_kwargs)\n",
      "/home/ljw/.local/lib/python2.7/site-packages/rpy2/robjects/functions.py:106: UserWarning: Loading required package: tmvtnorm\n",
      "\n",
      "  res = super(Function, self).__call__(*new_args, **new_kwargs)\n",
      "/home/ljw/.local/lib/python2.7/site-packages/rpy2/robjects/functions.py:106: UserWarning: Loading required package: stats4\n",
      "\n",
      "  res = super(Function, self).__call__(*new_args, **new_kwargs)\n",
      "/home/ljw/.local/lib/python2.7/site-packages/rpy2/robjects/functions.py:106: UserWarning: Loading required package: gmm\n",
      "\n",
      "  res = super(Function, self).__call__(*new_args, **new_kwargs)\n",
      "/home/ljw/.local/lib/python2.7/site-packages/rpy2/robjects/functions.py:106: UserWarning: Loading required package: sandwich\n",
      "\n",
      "  res = super(Function, self).__call__(*new_args, **new_kwargs)\n"
     ]
    }
   ],
   "source": [
    "import validate as v\n",
    "execfile('setup.py')"
   ]
  },
  {
   "cell_type": "code",
   "execution_count": 3,
   "metadata": {
    "collapsed": false
   },
   "outputs": [
    {
     "name": "stdout",
     "output_type": "stream",
     "text": [
      "R & Python parameters match, using Python RV\n"
     ]
    },
    {
     "data": {
      "text/plain": [
       "(<Matrix - Python:0x7f4e69c97b00 / R:0x5642aa62f908>\n",
       " [0.080650], <Matrix - Python:0x7f4e69c97cb0 / R:0x5642aa62d248>\n",
       " [0.013070], array([[ 0.08065]]), array([[ 0.01307019]]), array([[ 0.1363504]]), <Matrix - Python:0x7f4e69ca6098 / R:0x5642aa630918>\n",
       " [0.136350])"
      ]
     },
     "execution_count": 3,
     "metadata": {},
     "output_type": "execute_result"
    }
   ],
   "source": [
    "v.test_Betas(s)"
   ]
  },
  {
   "cell_type": "code",
   "execution_count": 4,
   "metadata": {
    "collapsed": false,
    "scrolled": true
   },
   "outputs": [
    {
     "name": "stdout",
     "output_type": "stream",
     "text": [
      "R & Python parameters match, using Python RV\n"
     ]
    },
    {
     "data": {
      "text/plain": [
       "(<Matrix - Python:0x7f4e69ca63f8 / R:0x5642a87d65b0>\n",
       " [0.199950, 0.250302, 0.532891, ..., 0.777158, 1.001604, 0.468907],\n",
       " <Matrix - Python:0x7f4e69ca67a0 / R:0x5642ab8084b0>\n",
       " [0.397518, 0.000000, 0.000000, ..., 0.000000, -0.000000, 0.650850],\n",
       " array([[ 0.19995034],\n",
       "        [ 0.25030247],\n",
       "        [ 0.53289068],\n",
       "        [ 0.42436019],\n",
       "        [ 0.52596578],\n",
       "        [ 0.839825  ],\n",
       "        [ 1.19783151],\n",
       "        [ 0.87546363],\n",
       "        [ 0.32758271],\n",
       "        [ 0.50975796],\n",
       "        [ 0.78061107],\n",
       "        [ 0.89873204],\n",
       "        [ 0.33438472],\n",
       "        [ 1.13885702],\n",
       "        [ 0.28952954],\n",
       "        [ 0.2052579 ],\n",
       "        [-0.01846025],\n",
       "        [ 0.34384301],\n",
       "        [ 0.62853906],\n",
       "        [ 0.99476627],\n",
       "        [ 0.92114036],\n",
       "        [ 0.05693198],\n",
       "        [ 0.4652374 ],\n",
       "        [ 1.20014615],\n",
       "        [ 1.12761401],\n",
       "        [ 0.68071022],\n",
       "        [ 0.9687127 ],\n",
       "        [ 0.18028013],\n",
       "        [ 0.23676422],\n",
       "        [ 0.38729919],\n",
       "        [ 1.10516695],\n",
       "        [ 0.63346546],\n",
       "        [ 1.23957562],\n",
       "        [ 0.24365817],\n",
       "        [-0.15047068],\n",
       "        [ 1.50281175],\n",
       "        [-0.20677134],\n",
       "        [ 0.63126829],\n",
       "        [ 0.87740306],\n",
       "        [ 1.35798994],\n",
       "        [ 1.15621187],\n",
       "        [ 0.53492469],\n",
       "        [ 0.60534524],\n",
       "        [ 0.33594903],\n",
       "        [ 0.35514991],\n",
       "        [ 0.58064913],\n",
       "        [-0.02983176],\n",
       "        [ 0.36907523],\n",
       "        [ 0.9343108 ],\n",
       "        [ 1.26169452],\n",
       "        [ 1.28479238],\n",
       "        [ 1.08753013],\n",
       "        [ 0.42601665],\n",
       "        [ 0.60087179],\n",
       "        [ 0.62203371],\n",
       "        [ 0.00332614],\n",
       "        [ 0.11030396],\n",
       "        [ 0.90603005],\n",
       "        [ 0.65240053],\n",
       "        [ 0.62959277],\n",
       "        [ 0.44414294],\n",
       "        [ 1.08508637],\n",
       "        [ 0.80748906],\n",
       "        [ 1.00008329],\n",
       "        [ 0.57849358],\n",
       "        [ 0.50752531],\n",
       "        [ 0.96448788],\n",
       "        [ 0.43781399],\n",
       "        [ 0.78644639],\n",
       "        [ 0.11690347],\n",
       "        [ 0.74233141],\n",
       "        [ 0.87574315],\n",
       "        [ 0.75892201],\n",
       "        [ 0.44384768],\n",
       "        [ 0.63935025],\n",
       "        [ 1.03629351],\n",
       "        [ 1.07082897],\n",
       "        [ 0.36092478],\n",
       "        [-0.06258085],\n",
       "        [ 0.61253426],\n",
       "        [ 1.36241229],\n",
       "        [ 1.12553128],\n",
       "        [ 0.77715835],\n",
       "        [ 1.00160352],\n",
       "        [ 0.46890724]]),\n",
       " array([[  3.97518163e-01,   0.00000000e+00,   0.00000000e+00, ...,\n",
       "           0.00000000e+00,   2.97149129e-07,   0.00000000e+00],\n",
       "        [  0.00000000e+00,   3.77034861e-02,  -7.39048873e-21, ...,\n",
       "           1.28604580e-05,   0.00000000e+00,  -5.83032246e-09],\n",
       "        [  0.00000000e+00,  -7.39048873e-21,   4.91943709e-01, ...,\n",
       "           1.01287034e-17,   0.00000000e+00,  -2.27032600e-26],\n",
       "        ..., \n",
       "        [  0.00000000e+00,   1.28604580e-05,   1.01287034e-17, ...,\n",
       "           1.42523748e-01,   0.00000000e+00,   7.20186998e-11],\n",
       "        [  2.97149129e-07,   0.00000000e+00,   0.00000000e+00, ...,\n",
       "           0.00000000e+00,   1.42483930e-01,   0.00000000e+00],\n",
       "        [  0.00000000e+00,  -5.83032246e-09,  -2.27032600e-26, ...,\n",
       "           7.20186998e-11,   0.00000000e+00,   6.50849725e-01]]),\n",
       " array([[-0.77334587],\n",
       "        [ 0.30624183],\n",
       "        [ 1.28134824],\n",
       "        [ 0.69928228],\n",
       "        [ 1.56979804],\n",
       "        [ 0.02295561],\n",
       "        [ 0.73879128],\n",
       "        [ 1.4813587 ],\n",
       "        [-0.23290831],\n",
       "        [-0.24316947],\n",
       "        [ 0.05106714],\n",
       "        [ 1.86346924],\n",
       "        [ 0.25670567],\n",
       "        [ 0.76361988],\n",
       "        [ 0.14646283],\n",
       "        [-0.05799591],\n",
       "        [-0.09025251],\n",
       "        [-0.15202473],\n",
       "        [ 0.82421635],\n",
       "        [ 2.22743578],\n",
       "        [ 0.39653384],\n",
       "        [-0.01727191],\n",
       "        [ 0.64969371],\n",
       "        [ 0.9410468 ],\n",
       "        [ 1.58269447],\n",
       "        [ 0.6074126 ],\n",
       "        [ 1.34487983],\n",
       "        [ 0.52366677],\n",
       "        [ 0.0151841 ],\n",
       "        [ 0.74528697],\n",
       "        [ 1.28173482],\n",
       "        [ 0.72105688],\n",
       "        [ 1.3083502 ],\n",
       "        [-0.47157792],\n",
       "        [-0.81530164],\n",
       "        [ 0.31484437],\n",
       "        [-0.38557748],\n",
       "        [ 1.60352777],\n",
       "        [ 1.22228693],\n",
       "        [ 1.21351171],\n",
       "        [ 1.25582905],\n",
       "        [ 0.92795252],\n",
       "        [ 1.18606688],\n",
       "        [ 0.22936114],\n",
       "        [ 0.86074755],\n",
       "        [ 0.51300004],\n",
       "        [-1.02917671],\n",
       "        [-0.28304319],\n",
       "        [ 0.84088322],\n",
       "        [ 0.99883821],\n",
       "        [ 0.69802795],\n",
       "        [ 2.33875164],\n",
       "        [ 0.71748611],\n",
       "        [ 0.25966118],\n",
       "        [ 1.05814579],\n",
       "        [-1.19956362],\n",
       "        [-0.27443586],\n",
       "        [ 1.15851501],\n",
       "        [-0.12948782],\n",
       "        [ 0.50198325],\n",
       "        [ 0.14833763],\n",
       "        [ 2.14937133],\n",
       "        [ 0.24659538],\n",
       "        [ 1.12123763],\n",
       "        [-0.85675453],\n",
       "        [ 0.4446154 ],\n",
       "        [ 0.75656882],\n",
       "        [ 0.37147091],\n",
       "        [ 0.51839062],\n",
       "        [-0.14384679],\n",
       "        [ 0.45715041],\n",
       "        [ 1.48406706],\n",
       "        [ 0.84295495],\n",
       "        [ 1.15299492],\n",
       "        [ 1.54427335],\n",
       "        [ 1.016428  ],\n",
       "        [ 1.40252519],\n",
       "        [ 0.42339329],\n",
       "        [ 0.5472134 ],\n",
       "        [ 0.62988441],\n",
       "        [ 1.93199372],\n",
       "        [ 1.75570614],\n",
       "        [ 0.98241819],\n",
       "        [ 0.71796365],\n",
       "        [ 1.63996429]]),\n",
       " <Matrix - Python:0x7f4e69bfa680 / R:0x5642a993d460>\n",
       " [-0.773346, 0.306242, 1.281348, ..., 0.982418, 0.717964, 1.639964])"
      ]
     },
     "execution_count": 4,
     "metadata": {},
     "output_type": "execute_result"
    }
   ],
   "source": [
    "v.test_Thetas(s)"
   ]
  },
  {
   "cell_type": "code",
   "execution_count": 5,
   "metadata": {
    "collapsed": false
   },
   "outputs": [
    {
     "name": "stdout",
     "output_type": "stream",
     "text": [
      "R & Python parameters match, using Python RV\n"
     ]
    },
    {
     "data": {
      "text/plain": [
       "(459.51,\n",
       " array([[ 362.61510772]]),\n",
       " <FloatVector - Python:0x7f4e69ca65a8 / R:0x5642aa5aac68>\n",
       " [459.510000],\n",
       " <Matrix - Python:0x7f4e6cba40e0 / R:0x5642aa65db38>\n",
       " [362.615108],\n",
       " array([[ 0.82929392]]),\n",
       " <Matrix - Python:0x7f4e6c4ba9e0 / R:0x5642aa65e448>\n",
       " [0.829294])"
      ]
     },
     "execution_count": 5,
     "metadata": {},
     "output_type": "execute_result"
    }
   ],
   "source": [
    "v.test_Sigma_e(s)"
   ]
  },
  {
   "cell_type": "code",
   "execution_count": 6,
   "metadata": {
    "collapsed": false
   },
   "outputs": [
    {
     "name": "stdout",
     "output_type": "stream",
     "text": [
      "R & Python parameters match, using Python RV\n"
     ]
    },
    {
     "data": {
      "text/plain": [
       "(42.51,\n",
       " array([[ 28.29506515]]),\n",
       " <FloatVector - Python:0x7f4e69bfa998 / R:0x5642aa5aa878>\n",
       " [42.510000],\n",
       " <Matrix - Python:0x7f4e69bfaf38 / R:0x5642aa665b28>\n",
       " [28.295065],\n",
       " array([[ 0.76928329]]),\n",
       " <Matrix - Python:0x7f4e69c061b8 / R:0x5642aa666c58>\n",
       " [0.769283])"
      ]
     },
     "execution_count": 6,
     "metadata": {},
     "output_type": "execute_result"
    }
   ],
   "source": [
    "v.test_Sigma_u(s)"
   ]
  },
  {
   "cell_type": "markdown",
   "metadata": {},
   "source": [
    "#### try rho plotting the pdf/cdf"
   ]
  },
  {
   "cell_type": "code",
   "execution_count": 7,
   "metadata": {
    "collapsed": false
   },
   "outputs": [
    {
     "name": "stdout",
     "output_type": "stream",
     "text": [
      "R & Python distributions match, using Python RV\n"
     ]
    }
   ],
   "source": [
    "v.test_Rho(s)"
   ]
  },
  {
   "cell_type": "code",
   "execution_count": 32,
   "metadata": {
    "collapsed": false
   },
   "outputs": [],
   "source": [
    "rcdist = R(\"cumu_den\")\n",
    "rnormden = R(\"norm_den\")\n",
    "rsupport = R(\"detval[,1]\")"
   ]
  },
  {
   "cell_type": "code",
   "execution_count": 33,
   "metadata": {
    "collapsed": true
   },
   "outputs": [],
   "source": [
    "pydensity = s.trace.Derived['density']\n",
    "pycumuden = s.trace.Derived['cdist']\n",
    "pysupport = s.trace.Statics['rhospace']"
   ]
  },
  {
   "cell_type": "code",
   "execution_count": 34,
   "metadata": {
    "collapsed": false
   },
   "outputs": [],
   "source": [
    "%matplotlib inline\n",
    "import seaborn as sb\n",
    "import matplotlib.pyplot as plt"
   ]
  },
  {
   "cell_type": "code",
   "execution_count": 43,
   "metadata": {
    "collapsed": false
   },
   "outputs": [
    {
     "data": {
      "text/plain": [
       "[<matplotlib.lines.Line2D at 0x7f4e63e34a90>]"
      ]
     },
     "execution_count": 43,
     "metadata": {},
     "output_type": "execute_result"
    },
    {
     "data": {
      "image/png": "[encoded data removed]",
      "text/plain": [
       "<matplotlib.figure.Figure at 0x7f4e6418ef10>"
      ]
     },
     "metadata": {},
     "output_type": "display_data"
    }
   ],
   "source": [
    "plt.plot(pysupport, pydensity.flatten())\n",
    "plt.plot(np.array(rsupport), np.array(rnormden))"
   ]
  },
  {
   "cell_type": "code",
   "execution_count": 42,
   "metadata": {
    "collapsed": false
   },
   "outputs": [
    {
     "data": {
      "text/plain": [
       "[<matplotlib.lines.Line2D at 0x7f4e63f68cd0>]"
      ]
     },
     "execution_count": 42,
     "metadata": {},
     "output_type": "execute_result"
    },
    {
     "data": {
      "image/png": "[encoded data removed]",
      "text/plain": [
       "<matplotlib.figure.Figure at 0x7f4e63f51210>"
      ]
     },
     "metadata": {},
     "output_type": "display_data"
    }
   ],
   "source": [
    "plt.plot(pysupport, pycumuden.flatten())\n",
    "plt.plot(np.array(rsupport), np.array(rcdist))"
   ]
  },
  {
   "cell_type": "markdown",
   "metadata": {},
   "source": [
    "#### and now what about lambda?"
   ]
  },
  {
   "cell_type": "code",
   "execution_count": 44,
   "metadata": {
    "collapsed": false
   },
   "outputs": [
    {
     "name": "stdout",
     "output_type": "stream",
     "text": [
      "R & Python distributions match, using Python RV\n"
     ]
    }
   ],
   "source": [
    "v.test_Lambda(s)"
   ]
  },
  {
   "cell_type": "code",
   "execution_count": 45,
   "metadata": {
    "collapsed": true
   },
   "outputs": [],
   "source": [
    "rcdist = R(\"cumu_den\")\n",
    "rnormden = R(\"norm_den\")\n",
    "rsupport = R(\"detval[,1]\")"
   ]
  },
  {
   "cell_type": "code",
   "execution_count": 46,
   "metadata": {
    "collapsed": true
   },
   "outputs": [],
   "source": [
    "pydensity = s.trace.Derived['density']\n",
    "pycumuden = s.trace.Derived['cdist']\n",
    "pysupport = s.trace.Statics['rhospace']"
   ]
  },
  {
   "cell_type": "code",
   "execution_count": 47,
   "metadata": {
    "collapsed": false
   },
   "outputs": [
    {
     "ename": "ValueError",
     "evalue": "x and y must have same first dimension",
     "output_type": "error",
     "traceback": [
      "\u001b[1;31m---------------------------------------------------------------------------\u001b[0m",
      "\u001b[1;31mValueError\u001b[0m                                Traceback (most recent call last)",
      "\u001b[1;32m<ipython-input-47-517e0a942f8a>\u001b[0m in \u001b[0;36m<module>\u001b[1;34m()\u001b[0m\n\u001b[1;32m----> 1\u001b[1;33m \u001b[0mplt\u001b[0m\u001b[1;33m.\u001b[0m\u001b[0mplot\u001b[0m\u001b[1;33m(\u001b[0m\u001b[0mpysupport\u001b[0m\u001b[1;33m,\u001b[0m \u001b[0mpydensity\u001b[0m\u001b[1;33m.\u001b[0m\u001b[0mflatten\u001b[0m\u001b[1;33m(\u001b[0m\u001b[1;33m)\u001b[0m\u001b[1;33m)\u001b[0m\u001b[1;33m\u001b[0m\u001b[0m\n\u001b[0m\u001b[0;32m      2\u001b[0m \u001b[0mplt\u001b[0m\u001b[1;33m.\u001b[0m\u001b[0mplot\u001b[0m\u001b[1;33m(\u001b[0m\u001b[0mnp\u001b[0m\u001b[1;33m.\u001b[0m\u001b[0marray\u001b[0m\u001b[1;33m(\u001b[0m\u001b[0mrsupport\u001b[0m\u001b[1;33m)\u001b[0m\u001b[1;33m,\u001b[0m \u001b[0mnp\u001b[0m\u001b[1;33m.\u001b[0m\u001b[0marray\u001b[0m\u001b[1;33m(\u001b[0m\u001b[0mrnormden\u001b[0m\u001b[1;33m)\u001b[0m\u001b[1;33m)\u001b[0m\u001b[1;33m\u001b[0m\u001b[0m\n",
      "\u001b[1;32m/home/ljw/.local/lib/python2.7/site-packages/matplotlib/pyplot.pyc\u001b[0m in \u001b[0;36mplot\u001b[1;34m(*args, **kwargs)\u001b[0m\n\u001b[0;32m   3152\u001b[0m         \u001b[0max\u001b[0m\u001b[1;33m.\u001b[0m\u001b[0mhold\u001b[0m\u001b[1;33m(\u001b[0m\u001b[0mhold\u001b[0m\u001b[1;33m)\u001b[0m\u001b[1;33m\u001b[0m\u001b[0m\n\u001b[0;32m   3153\u001b[0m     \u001b[1;32mtry\u001b[0m\u001b[1;33m:\u001b[0m\u001b[1;33m\u001b[0m\u001b[0m\n\u001b[1;32m-> 3154\u001b[1;33m         \u001b[0mret\u001b[0m \u001b[1;33m=\u001b[0m \u001b[0max\u001b[0m\u001b[1;33m.\u001b[0m\u001b[0mplot\u001b[0m\u001b[1;33m(\u001b[0m\u001b[1;33m*\u001b[0m\u001b[0margs\u001b[0m\u001b[1;33m,\u001b[0m \u001b[1;33m**\u001b[0m\u001b[0mkwargs\u001b[0m\u001b[1;33m)\u001b[0m\u001b[1;33m\u001b[0m\u001b[0m\n\u001b[0m\u001b[0;32m   3155\u001b[0m     \u001b[1;32mfinally\u001b[0m\u001b[1;33m:\u001b[0m\u001b[1;33m\u001b[0m\u001b[0m\n\u001b[0;32m   3156\u001b[0m         \u001b[0max\u001b[0m\u001b[1;33m.\u001b[0m\u001b[0mhold\u001b[0m\u001b[1;33m(\u001b[0m\u001b[0mwashold\u001b[0m\u001b[1;33m)\u001b[0m\u001b[1;33m\u001b[0m\u001b[0m\n",
      "\u001b[1;32m/home/ljw/.local/lib/python2.7/site-packages/matplotlib/__init__.pyc\u001b[0m in \u001b[0;36minner\u001b[1;34m(ax, *args, **kwargs)\u001b[0m\n\u001b[0;32m   1809\u001b[0m                     warnings.warn(msg % (label_namer, func.__name__),\n\u001b[0;32m   1810\u001b[0m                                   RuntimeWarning, stacklevel=2)\n\u001b[1;32m-> 1811\u001b[1;33m             \u001b[1;32mreturn\u001b[0m \u001b[0mfunc\u001b[0m\u001b[1;33m(\u001b[0m\u001b[0max\u001b[0m\u001b[1;33m,\u001b[0m \u001b[1;33m*\u001b[0m\u001b[0margs\u001b[0m\u001b[1;33m,\u001b[0m \u001b[1;33m**\u001b[0m\u001b[0mkwargs\u001b[0m\u001b[1;33m)\u001b[0m\u001b[1;33m\u001b[0m\u001b[0m\n\u001b[0m\u001b[0;32m   1812\u001b[0m         \u001b[0mpre_doc\u001b[0m \u001b[1;33m=\u001b[0m \u001b[0minner\u001b[0m\u001b[1;33m.\u001b[0m\u001b[0m__doc__\u001b[0m\u001b[1;33m\u001b[0m\u001b[0m\n\u001b[0;32m   1813\u001b[0m         \u001b[1;32mif\u001b[0m \u001b[0mpre_doc\u001b[0m \u001b[1;32mis\u001b[0m \u001b[0mNone\u001b[0m\u001b[1;33m:\u001b[0m\u001b[1;33m\u001b[0m\u001b[0m\n",
      "\u001b[1;32m/home/ljw/.local/lib/python2.7/site-packages/matplotlib/axes/_axes.pyc\u001b[0m in \u001b[0;36mplot\u001b[1;34m(self, *args, **kwargs)\u001b[0m\n\u001b[0;32m   1425\u001b[0m             \u001b[0mkwargs\u001b[0m\u001b[1;33m[\u001b[0m\u001b[1;34m'color'\u001b[0m\u001b[1;33m]\u001b[0m \u001b[1;33m=\u001b[0m \u001b[0mc\u001b[0m\u001b[1;33m\u001b[0m\u001b[0m\n\u001b[0;32m   1426\u001b[0m \u001b[1;33m\u001b[0m\u001b[0m\n\u001b[1;32m-> 1427\u001b[1;33m         \u001b[1;32mfor\u001b[0m \u001b[0mline\u001b[0m \u001b[1;32min\u001b[0m \u001b[0mself\u001b[0m\u001b[1;33m.\u001b[0m\u001b[0m_get_lines\u001b[0m\u001b[1;33m(\u001b[0m\u001b[1;33m*\u001b[0m\u001b[0margs\u001b[0m\u001b[1;33m,\u001b[0m \u001b[1;33m**\u001b[0m\u001b[0mkwargs\u001b[0m\u001b[1;33m)\u001b[0m\u001b[1;33m:\u001b[0m\u001b[1;33m\u001b[0m\u001b[0m\n\u001b[0m\u001b[0;32m   1428\u001b[0m             \u001b[0mself\u001b[0m\u001b[1;33m.\u001b[0m\u001b[0madd_line\u001b[0m\u001b[1;33m(\u001b[0m\u001b[0mline\u001b[0m\u001b[1;33m)\u001b[0m\u001b[1;33m\u001b[0m\u001b[0m\n\u001b[0;32m   1429\u001b[0m             \u001b[0mlines\u001b[0m\u001b[1;33m.\u001b[0m\u001b[0mappend\u001b[0m\u001b[1;33m(\u001b[0m\u001b[0mline\u001b[0m\u001b[1;33m)\u001b[0m\u001b[1;33m\u001b[0m\u001b[0m\n",
      "\u001b[1;32m/home/ljw/.local/lib/python2.7/site-packages/matplotlib/axes/_base.pyc\u001b[0m in \u001b[0;36m_grab_next_args\u001b[1;34m(self, *args, **kwargs)\u001b[0m\n\u001b[0;32m    384\u001b[0m                 \u001b[1;32mreturn\u001b[0m\u001b[1;33m\u001b[0m\u001b[0m\n\u001b[0;32m    385\u001b[0m             \u001b[1;32mif\u001b[0m \u001b[0mlen\u001b[0m\u001b[1;33m(\u001b[0m\u001b[0mremaining\u001b[0m\u001b[1;33m)\u001b[0m \u001b[1;33m<=\u001b[0m \u001b[1;36m3\u001b[0m\u001b[1;33m:\u001b[0m\u001b[1;33m\u001b[0m\u001b[0m\n\u001b[1;32m--> 386\u001b[1;33m                 \u001b[1;32mfor\u001b[0m \u001b[0mseg\u001b[0m \u001b[1;32min\u001b[0m \u001b[0mself\u001b[0m\u001b[1;33m.\u001b[0m\u001b[0m_plot_args\u001b[0m\u001b[1;33m(\u001b[0m\u001b[0mremaining\u001b[0m\u001b[1;33m,\u001b[0m \u001b[0mkwargs\u001b[0m\u001b[1;33m)\u001b[0m\u001b[1;33m:\u001b[0m\u001b[1;33m\u001b[0m\u001b[0m\n\u001b[0m\u001b[0;32m    387\u001b[0m                     \u001b[1;32myield\u001b[0m \u001b[0mseg\u001b[0m\u001b[1;33m\u001b[0m\u001b[0m\n\u001b[0;32m    388\u001b[0m                 \u001b[1;32mreturn\u001b[0m\u001b[1;33m\u001b[0m\u001b[0m\n",
      "\u001b[1;32m/home/ljw/.local/lib/python2.7/site-packages/matplotlib/axes/_base.pyc\u001b[0m in \u001b[0;36m_plot_args\u001b[1;34m(self, tup, kwargs)\u001b[0m\n\u001b[0;32m    362\u001b[0m             \u001b[0mx\u001b[0m\u001b[1;33m,\u001b[0m \u001b[0my\u001b[0m \u001b[1;33m=\u001b[0m \u001b[0mindex_of\u001b[0m\u001b[1;33m(\u001b[0m\u001b[0mtup\u001b[0m\u001b[1;33m[\u001b[0m\u001b[1;33m-\u001b[0m\u001b[1;36m1\u001b[0m\u001b[1;33m]\u001b[0m\u001b[1;33m)\u001b[0m\u001b[1;33m\u001b[0m\u001b[0m\n\u001b[0;32m    363\u001b[0m \u001b[1;33m\u001b[0m\u001b[0m\n\u001b[1;32m--> 364\u001b[1;33m         \u001b[0mx\u001b[0m\u001b[1;33m,\u001b[0m \u001b[0my\u001b[0m \u001b[1;33m=\u001b[0m \u001b[0mself\u001b[0m\u001b[1;33m.\u001b[0m\u001b[0m_xy_from_xy\u001b[0m\u001b[1;33m(\u001b[0m\u001b[0mx\u001b[0m\u001b[1;33m,\u001b[0m \u001b[0my\u001b[0m\u001b[1;33m)\u001b[0m\u001b[1;33m\u001b[0m\u001b[0m\n\u001b[0m\u001b[0;32m    365\u001b[0m \u001b[1;33m\u001b[0m\u001b[0m\n\u001b[0;32m    366\u001b[0m         \u001b[1;32mif\u001b[0m \u001b[0mself\u001b[0m\u001b[1;33m.\u001b[0m\u001b[0mcommand\u001b[0m \u001b[1;33m==\u001b[0m \u001b[1;34m'plot'\u001b[0m\u001b[1;33m:\u001b[0m\u001b[1;33m\u001b[0m\u001b[0m\n",
      "\u001b[1;32m/home/ljw/.local/lib/python2.7/site-packages/matplotlib/axes/_base.pyc\u001b[0m in \u001b[0;36m_xy_from_xy\u001b[1;34m(self, x, y)\u001b[0m\n\u001b[0;32m    221\u001b[0m         \u001b[0my\u001b[0m \u001b[1;33m=\u001b[0m \u001b[0m_check_1d\u001b[0m\u001b[1;33m(\u001b[0m\u001b[0my\u001b[0m\u001b[1;33m)\u001b[0m\u001b[1;33m\u001b[0m\u001b[0m\n\u001b[0;32m    222\u001b[0m         \u001b[1;32mif\u001b[0m \u001b[0mx\u001b[0m\u001b[1;33m.\u001b[0m\u001b[0mshape\u001b[0m\u001b[1;33m[\u001b[0m\u001b[1;36m0\u001b[0m\u001b[1;33m]\u001b[0m \u001b[1;33m!=\u001b[0m \u001b[0my\u001b[0m\u001b[1;33m.\u001b[0m\u001b[0mshape\u001b[0m\u001b[1;33m[\u001b[0m\u001b[1;36m0\u001b[0m\u001b[1;33m]\u001b[0m\u001b[1;33m:\u001b[0m\u001b[1;33m\u001b[0m\u001b[0m\n\u001b[1;32m--> 223\u001b[1;33m             \u001b[1;32mraise\u001b[0m \u001b[0mValueError\u001b[0m\u001b[1;33m(\u001b[0m\u001b[1;34m\"x and y must have same first dimension\"\u001b[0m\u001b[1;33m)\u001b[0m\u001b[1;33m\u001b[0m\u001b[0m\n\u001b[0m\u001b[0;32m    224\u001b[0m         \u001b[1;32mif\u001b[0m \u001b[0mx\u001b[0m\u001b[1;33m.\u001b[0m\u001b[0mndim\u001b[0m \u001b[1;33m>\u001b[0m \u001b[1;36m2\u001b[0m \u001b[1;32mor\u001b[0m \u001b[0my\u001b[0m\u001b[1;33m.\u001b[0m\u001b[0mndim\u001b[0m \u001b[1;33m>\u001b[0m \u001b[1;36m2\u001b[0m\u001b[1;33m:\u001b[0m\u001b[1;33m\u001b[0m\u001b[0m\n\u001b[0;32m    225\u001b[0m             \u001b[1;32mraise\u001b[0m \u001b[0mValueError\u001b[0m\u001b[1;33m(\u001b[0m\u001b[1;34m\"x and y can be no greater than 2-D\"\u001b[0m\u001b[1;33m)\u001b[0m\u001b[1;33m\u001b[0m\u001b[0m\n",
      "\u001b[1;31mValueError\u001b[0m: x and y must have same first dimension"
     ]
    },
    {
     "data": {
      "image/png": "[encoded data removed]",
      "text/plain": [
       "<matplotlib.figure.Figure at 0x7f4e641d0990>"
      ]
     },
     "metadata": {},
     "output_type": "display_data"
    }
   ],
   "source": [
    "plt.plot(pysupport, pydensity.flatten())\n",
    "plt.plot(np.array(rsupport), np.array(rnormden))"
   ]
  },
  {
   "cell_type": "code",
   "execution_count": null,
   "metadata": {
    "collapsed": true
   },
   "outputs": [],
   "source": [
    "plt.plot(pysupport, pycumuden.flatten())\n",
    "plt.plot(np.array(rsupport), np.array(rcdist))"
   ]
  }
 ],
 "metadata": {
  "kernelspec": {
   "display_name": "Python 2",
   "language": "python",
   "name": "python2"
  },
  "language_info": {
   "codemirror_mode": {
    "name": "ipython",
    "version": 2
   },
   "file_extension": ".py",
   "mimetype": "text/x-python",
   "name": "python",
   "nbconvert_exporter": "python",
   "pygments_lexer": "ipython2",
   "version": "2.7.10"
  }
 },
 "nbformat": 4,
 "nbformat_minor": 0
}
