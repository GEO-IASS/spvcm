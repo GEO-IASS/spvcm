{
 "cells": [
  {
   "cell_type": "code",
   "execution_count": 1,
   "metadata": {
    "collapsed": false
   },
   "outputs": [],
   "source": [
    "from hlm import HSAR\n",
    "from hlm.dong_harris.verify import Delta_members\n",
    "import hlm\n",
    "import scipy.sparse as spar\n",
    "from sims import dgp\n",
    "import pysal as ps\n",
    "import pandas as pd\n",
    "import numpy as np"
   ]
  },
  {
   "cell_type": "code",
   "execution_count": 2,
   "metadata": {
    "collapsed": true
   },
   "outputs": [],
   "source": [
    "W = ps.open('./test_data/w_lower.mtx').read()\n",
    "M = ps.open('./test_data/w_upper.mtx').read()\n",
    "df = pd.read_csv('./test_data/test.csv')"
   ]
  },
  {
   "cell_type": "code",
   "execution_count": 3,
   "metadata": {
    "collapsed": false
   },
   "outputs": [
    {
     "data": {
      "text/html": [
       "<div>\n",
       "<table border=\"1\" class=\"dataframe\">\n",
       "  <thead>\n",
       "    <tr style=\"text-align: right;\">\n",
       "      <th></th>\n",
       "      <th>id</th>\n",
       "      <th>u.full</th>\n",
       "      <th>y</th>\n",
       "      <th>x</th>\n",
       "      <th>county</th>\n",
       "    </tr>\n",
       "  </thead>\n",
       "  <tbody>\n",
       "    <tr>\n",
       "      <th>0</th>\n",
       "      <td>0</td>\n",
       "      <td>-0.689048</td>\n",
       "      <td>0.788457</td>\n",
       "      <td>1</td>\n",
       "      <td>1</td>\n",
       "    </tr>\n",
       "    <tr>\n",
       "      <th>1</th>\n",
       "      <td>1</td>\n",
       "      <td>-0.689048</td>\n",
       "      <td>0.788457</td>\n",
       "      <td>0</td>\n",
       "      <td>1</td>\n",
       "    </tr>\n",
       "    <tr>\n",
       "      <th>2</th>\n",
       "      <td>2</td>\n",
       "      <td>-0.689048</td>\n",
       "      <td>1.064711</td>\n",
       "      <td>0</td>\n",
       "      <td>1</td>\n",
       "    </tr>\n",
       "    <tr>\n",
       "      <th>3</th>\n",
       "      <td>3</td>\n",
       "      <td>-0.689048</td>\n",
       "      <td>0.000000</td>\n",
       "      <td>0</td>\n",
       "      <td>1</td>\n",
       "    </tr>\n",
       "    <tr>\n",
       "      <th>4</th>\n",
       "      <td>4</td>\n",
       "      <td>-0.847313</td>\n",
       "      <td>1.131402</td>\n",
       "      <td>0</td>\n",
       "      <td>2</td>\n",
       "    </tr>\n",
       "  </tbody>\n",
       "</table>\n",
       "</div>"
      ],
      "text/plain": [
       "   id    u.full         y  x  county\n",
       "0   0 -0.689048  0.788457  1       1\n",
       "1   1 -0.689048  0.788457  0       1\n",
       "2   2 -0.689048  1.064711  0       1\n",
       "3   3 -0.689048  0.000000  0       1\n",
       "4   4 -0.847313  1.131402  0       2"
      ]
     },
     "execution_count": 3,
     "metadata": {},
     "output_type": "execute_result"
    }
   ],
   "source": [
    "df.head()"
   ]
  },
  {
   "cell_type": "code",
   "execution_count": 4,
   "metadata": {
    "collapsed": true
   },
   "outputs": [],
   "source": [
    "membership = df[['county']].values - 1"
   ]
  },
  {
   "cell_type": "code",
   "execution_count": 5,
   "metadata": {
    "collapsed": true
   },
   "outputs": [],
   "source": [
    "W.transform = M.transform = 'r'"
   ]
  },
  {
   "cell_type": "code",
   "execution_count": 6,
   "metadata": {
    "collapsed": true
   },
   "outputs": [],
   "source": [
    "Wmat = W.sparse\n",
    "Mmat = M.sparse"
   ]
  },
  {
   "cell_type": "code",
   "execution_count": 7,
   "metadata": {
    "collapsed": true
   },
   "outputs": [],
   "source": [
    "Delta, mems = Delta_members(Delta = None, membership=membership, N=W.n, J=M.n)"
   ]
  },
  {
   "cell_type": "code",
   "execution_count": 8,
   "metadata": {
    "collapsed": true
   },
   "outputs": [],
   "source": [
    "Betas, Sigma2_e, Sigma2_u, Rho, Lambda = dgp.setup_params()"
   ]
  },
  {
   "cell_type": "code",
   "execution_count": 9,
   "metadata": {
    "collapsed": false
   },
   "outputs": [],
   "source": [
    "y, X = dgp.dgp(Betas, Sigma2_e, Sigma2_u, Rho, W, Lambda, M, Delta)"
   ]
  },
  {
   "cell_type": "code",
   "execution_count": 10,
   "metadata": {
    "collapsed": false
   },
   "outputs": [
    {
     "data": {
      "text/plain": [
       "array([[ 8.91340042],\n",
       "       [-2.17615497],\n",
       "       [ 4.27040791],\n",
       "       [-6.22992398],\n",
       "       [ 8.41329776]])"
      ]
     },
     "execution_count": 10,
     "metadata": {},
     "output_type": "execute_result"
    }
   ],
   "source": [
    "ps.spreg.OLS(y,X).betas"
   ]
  },
  {
   "cell_type": "code",
   "execution_count": 11,
   "metadata": {
    "collapsed": false
   },
   "outputs": [
    {
     "data": {
      "text/plain": [
       "array([[-2],\n",
       "       [ 4],\n",
       "       [-6],\n",
       "       [ 8]])"
      ]
     },
     "execution_count": 11,
     "metadata": {},
     "output_type": "execute_result"
    }
   ],
   "source": [
    "Betas"
   ]
  },
  {
   "cell_type": "code",
   "execution_count": 12,
   "metadata": {
    "collapsed": false
   },
   "outputs": [
    {
     "name": "stderr",
     "output_type": "stream",
     "text": [
      "/home/ljw/dev/hlm/hlm/utils.py:141: ComplexWarning: Casting complex values to real discards the imaginary part\n",
      "  emin = emin.astype(float)\n"
     ]
    }
   ],
   "source": [
    "W_min, W_max = hlm.utils.speigen_range(Wmat)\n",
    "M_min, M_max = hlm.utils.speigen_range(Mmat)"
   ]
  },
  {
   "cell_type": "code",
   "execution_count": 13,
   "metadata": {
    "collapsed": true
   },
   "outputs": [],
   "source": [
    "rhogrid = np.arange(1./W_min, 1./W_max, .01)\n",
    "lamgrid = np.arange(1./M_min, 1./M_max, .01)"
   ]
  },
  {
   "cell_type": "code",
   "execution_count": 14,
   "metadata": {
    "collapsed": true
   },
   "outputs": [],
   "source": [
    "In = np.identity(W.n)\n",
    "Ij = np.identity(M.n)"
   ]
  },
  {
   "cell_type": "code",
   "execution_count": 15,
   "metadata": {
    "collapsed": true
   },
   "outputs": [],
   "source": [
    "As = [spar.csc_matrix(In - r*Wmat) for r in rhogrid]\n",
    "Bs = [spar.csc_matrix(Ij - l*Mmat) for l in lamgrid]"
   ]
  },
  {
   "cell_type": "code",
   "execution_count": 16,
   "metadata": {
    "collapsed": true
   },
   "outputs": [],
   "source": [
    "rhodets = np.hstack([hlm.utils.splogdet(A) for A in As])\n",
    "lamdets = np.hstack([hlm.utils.splogdet(B) for B in Bs])"
   ]
  },
  {
   "cell_type": "code",
   "execution_count": 17,
   "metadata": {
    "collapsed": false
   },
   "outputs": [],
   "source": [
    "rhos = np.vstack((rhogrid, rhodets))\n",
    "lams = np.vstack((lamgrid, lamdets))"
   ]
  },
  {
   "cell_type": "code",
   "execution_count": 35,
   "metadata": {
    "collapsed": false
   },
   "outputs": [
    {
     "name": "stdout",
     "output_type": "stream",
     "text": [
      "applied ['overwrite_covariance'] to Betas\n",
      "applied ['overwrite_covariance'] to Thetas\n",
      "applied [] to Sigma2_e\n",
      "applied [] to Sigma2_u\n",
      "applied ['adapt_step', 'proposal', 'jump', 'ar_low', 'ar_hi', 'grid'] to Rho\n",
      "applied ['adapt_step', 'proposal', 'jump', 'ar_low', 'ar_hi', 'grid'] to Lambda\n"
     ]
    }
   ],
   "source": [
    "dh = HSAR(y, X, W, M, membership=membership, rho_grid = rhos, \n",
    "          spatial_method='met', effects_method='cho',\n",
    "          lambda_grid = lams, n_samples=1000, truncate=(W_min, W_max, M_min, M_max), \n",
    "          Rho=-.5, Lambda=.5,\n",
    "          rho_jump=1, lambda_jump=1, rho_adapt_step=1.05, lambda_adapt_step=1.05,\n",
    "          tuning=100)"
   ]
  },
  {
   "cell_type": "code",
   "execution_count": 64,
   "metadata": {
    "collapsed": true
   },
   "outputs": [],
   "source": [
    "df = pd.DataFrame().from_records(dh.trace._data)"
   ]
  },
  {
   "cell_type": "code",
   "execution_count": 44,
   "metadata": {
    "collapsed": false
   },
   "outputs": [
    {
     "data": {
      "text/html": [
       "<div>\n",
       "<table border=\"1\" class=\"dataframe\">\n",
       "  <thead>\n",
       "    <tr style=\"text-align: right;\">\n",
       "      <th></th>\n",
       "      <th>Betas</th>\n",
       "      <th>Lambda</th>\n",
       "      <th>Rho</th>\n",
       "      <th>Sigma2_e</th>\n",
       "      <th>Sigma2_u</th>\n",
       "      <th>Thetas</th>\n",
       "    </tr>\n",
       "  </thead>\n",
       "  <tbody>\n",
       "    <tr>\n",
       "      <th>0</th>\n",
       "      <td>[[12.2647775146], [-2.36518851338], [4.5817283...</td>\n",
       "      <td>0.500000</td>\n",
       "      <td>-0.500000</td>\n",
       "      <td>[[4966.62126721]]</td>\n",
       "      <td>[[742.281701316]]</td>\n",
       "      <td>[[-43.9760679774], [28.5987743804], [-26.99454...</td>\n",
       "    </tr>\n",
       "    <tr>\n",
       "      <th>1</th>\n",
       "      <td>[[12.9055148298], [-2.6301133227], [4.18624320...</td>\n",
       "      <td>0.500000</td>\n",
       "      <td>-0.500000</td>\n",
       "      <td>[[4733.8580889]]</td>\n",
       "      <td>[[744.841995535]]</td>\n",
       "      <td>[[-46.7661232582], [44.6204867896], [-67.99665...</td>\n",
       "    </tr>\n",
       "    <tr>\n",
       "      <th>2</th>\n",
       "      <td>[[13.2961200193], [-2.43562867492], [4.9240429...</td>\n",
       "      <td>0.500000</td>\n",
       "      <td>-0.422152</td>\n",
       "      <td>[[5418.96924886]]</td>\n",
       "      <td>[[500.815849686]]</td>\n",
       "      <td>[[-15.1157366218], [29.033029582], [-11.410346...</td>\n",
       "    </tr>\n",
       "    <tr>\n",
       "      <th>3</th>\n",
       "      <td>[[10.2770039172], [-2.28543779039], [4.6009871...</td>\n",
       "      <td>0.057989</td>\n",
       "      <td>-0.422152</td>\n",
       "      <td>[[4601.16201434]]</td>\n",
       "      <td>[[520.664261014]]</td>\n",
       "      <td>[[-15.3262025208], [17.7470136266], [-56.89002...</td>\n",
       "    </tr>\n",
       "    <tr>\n",
       "      <th>4</th>\n",
       "      <td>[[8.23007792855], [-2.17443133832], [4.5248069...</td>\n",
       "      <td>0.144034</td>\n",
       "      <td>0.161191</td>\n",
       "      <td>[[4483.69539278]]</td>\n",
       "      <td>[[317.436288352]]</td>\n",
       "      <td>[[9.3762321705], [25.6346101152], [-25.0789219...</td>\n",
       "    </tr>\n",
       "  </tbody>\n",
       "</table>\n",
       "</div>"
      ],
      "text/plain": [
       "                                               Betas    Lambda       Rho  \\\n",
       "0  [[12.2647775146], [-2.36518851338], [4.5817283...  0.500000 -0.500000   \n",
       "1  [[12.9055148298], [-2.6301133227], [4.18624320...  0.500000 -0.500000   \n",
       "2  [[13.2961200193], [-2.43562867492], [4.9240429...  0.500000 -0.422152   \n",
       "3  [[10.2770039172], [-2.28543779039], [4.6009871...  0.057989 -0.422152   \n",
       "4  [[8.23007792855], [-2.17443133832], [4.5248069...  0.144034  0.161191   \n",
       "\n",
       "            Sigma2_e           Sigma2_u  \\\n",
       "0  [[4966.62126721]]  [[742.281701316]]   \n",
       "1   [[4733.8580889]]  [[744.841995535]]   \n",
       "2  [[5418.96924886]]  [[500.815849686]]   \n",
       "3  [[4601.16201434]]  [[520.664261014]]   \n",
       "4  [[4483.69539278]]  [[317.436288352]]   \n",
       "\n",
       "                                              Thetas  \n",
       "0  [[-43.9760679774], [28.5987743804], [-26.99454...  \n",
       "1  [[-46.7661232582], [44.6204867896], [-67.99665...  \n",
       "2  [[-15.1157366218], [29.033029582], [-11.410346...  \n",
       "3  [[-15.3262025208], [17.7470136266], [-56.89002...  \n",
       "4  [[9.3762321705], [25.6346101152], [-25.0789219...  "
      ]
     },
     "execution_count": 44,
     "metadata": {},
     "output_type": "execute_result"
    }
   ],
   "source": [
    "df.head()"
   ]
  },
  {
   "cell_type": "code",
   "execution_count": 49,
   "metadata": {
    "collapsed": true
   },
   "outputs": [],
   "source": [
    "for i in range(5):\n",
    "    df['Betas_'+str(i)] = df.Betas.apply(lambda x: float(x[i]))"
   ]
  },
  {
   "cell_type": "code",
   "execution_count": 52,
   "metadata": {
    "collapsed": true
   },
   "outputs": [],
   "source": [
    "df['Sigma2_e'] = df.Sigma2_e.apply(float)\n",
    "df['Sigma2_u'] = df.Sigma2_u.apply(float)"
   ]
  },
  {
   "cell_type": "code",
   "execution_count": 60,
   "metadata": {
    "collapsed": false
   },
   "outputs": [],
   "source": [
    "thetas = df['Thetas'].apply(lambda x: pd.Series(x.flatten()))\n",
    "thetas = thetas.rename(columns = lambda x: 'Theta_' + str(x))\n",
    "newdf = pd.concat((df[:], thetas[:]), axis=1)"
   ]
  },
  {
   "cell_type": "code",
   "execution_count": 61,
   "metadata": {
    "collapsed": false
   },
   "outputs": [
    {
     "data": {
      "text/html": [
       "<div>\n",
       "<table border=\"1\" class=\"dataframe\">\n",
       "  <thead>\n",
       "    <tr style=\"text-align: right;\">\n",
       "      <th></th>\n",
       "      <th>Betas</th>\n",
       "      <th>Lambda</th>\n",
       "      <th>Rho</th>\n",
       "      <th>Sigma2_e</th>\n",
       "      <th>Sigma2_u</th>\n",
       "      <th>Thetas</th>\n",
       "      <th>Betas_4</th>\n",
       "      <th>Betas_0</th>\n",
       "      <th>Betas_1</th>\n",
       "      <th>Betas_2</th>\n",
       "      <th>...</th>\n",
       "      <th>Theta_75</th>\n",
       "      <th>Theta_76</th>\n",
       "      <th>Theta_77</th>\n",
       "      <th>Theta_78</th>\n",
       "      <th>Theta_79</th>\n",
       "      <th>Theta_80</th>\n",
       "      <th>Theta_81</th>\n",
       "      <th>Theta_82</th>\n",
       "      <th>Theta_83</th>\n",
       "      <th>Theta_84</th>\n",
       "    </tr>\n",
       "  </thead>\n",
       "  <tbody>\n",
       "    <tr>\n",
       "      <th>0</th>\n",
       "      <td>[[12.2647775146], [-2.36518851338], [4.5817283...</td>\n",
       "      <td>0.500000</td>\n",
       "      <td>-0.500000</td>\n",
       "      <td>4966.621267</td>\n",
       "      <td>742.281701</td>\n",
       "      <td>[[-43.9760679774], [28.5987743804], [-26.99454...</td>\n",
       "      <td>8.833413</td>\n",
       "      <td>12.264778</td>\n",
       "      <td>-2.365189</td>\n",
       "      <td>4.581728</td>\n",
       "      <td>...</td>\n",
       "      <td>55.303508</td>\n",
       "      <td>-19.620614</td>\n",
       "      <td>-16.843181</td>\n",
       "      <td>-42.399414</td>\n",
       "      <td>-41.913595</td>\n",
       "      <td>15.265119</td>\n",
       "      <td>-34.903610</td>\n",
       "      <td>5.470794</td>\n",
       "      <td>-34.452882</td>\n",
       "      <td>0.691495</td>\n",
       "    </tr>\n",
       "    <tr>\n",
       "      <th>1</th>\n",
       "      <td>[[12.9055148298], [-2.6301133227], [4.18624320...</td>\n",
       "      <td>0.500000</td>\n",
       "      <td>-0.500000</td>\n",
       "      <td>4733.858089</td>\n",
       "      <td>744.841996</td>\n",
       "      <td>[[-46.7661232582], [44.6204867896], [-67.99665...</td>\n",
       "      <td>8.756852</td>\n",
       "      <td>12.905515</td>\n",
       "      <td>-2.630113</td>\n",
       "      <td>4.186243</td>\n",
       "      <td>...</td>\n",
       "      <td>24.038881</td>\n",
       "      <td>-17.022510</td>\n",
       "      <td>-30.920141</td>\n",
       "      <td>-7.006960</td>\n",
       "      <td>-42.780627</td>\n",
       "      <td>21.461160</td>\n",
       "      <td>-9.280353</td>\n",
       "      <td>8.390619</td>\n",
       "      <td>-31.456346</td>\n",
       "      <td>-10.422397</td>\n",
       "    </tr>\n",
       "    <tr>\n",
       "      <th>2</th>\n",
       "      <td>[[13.2961200193], [-2.43562867492], [4.9240429...</td>\n",
       "      <td>0.500000</td>\n",
       "      <td>-0.422152</td>\n",
       "      <td>5418.969249</td>\n",
       "      <td>500.815850</td>\n",
       "      <td>[[-15.1157366218], [29.033029582], [-11.410346...</td>\n",
       "      <td>9.014628</td>\n",
       "      <td>13.296120</td>\n",
       "      <td>-2.435629</td>\n",
       "      <td>4.924043</td>\n",
       "      <td>...</td>\n",
       "      <td>24.998252</td>\n",
       "      <td>-52.375880</td>\n",
       "      <td>-3.794317</td>\n",
       "      <td>-65.874641</td>\n",
       "      <td>-47.014721</td>\n",
       "      <td>35.563526</td>\n",
       "      <td>-25.011838</td>\n",
       "      <td>-1.771365</td>\n",
       "      <td>-0.561034</td>\n",
       "      <td>25.650246</td>\n",
       "    </tr>\n",
       "    <tr>\n",
       "      <th>3</th>\n",
       "      <td>[[10.2770039172], [-2.28543779039], [4.6009871...</td>\n",
       "      <td>0.057989</td>\n",
       "      <td>-0.422152</td>\n",
       "      <td>4601.162014</td>\n",
       "      <td>520.664261</td>\n",
       "      <td>[[-15.3262025208], [17.7470136266], [-56.89002...</td>\n",
       "      <td>8.624542</td>\n",
       "      <td>10.277004</td>\n",
       "      <td>-2.285438</td>\n",
       "      <td>4.600987</td>\n",
       "      <td>...</td>\n",
       "      <td>9.238097</td>\n",
       "      <td>-17.485979</td>\n",
       "      <td>48.965395</td>\n",
       "      <td>-5.800342</td>\n",
       "      <td>-47.856409</td>\n",
       "      <td>-35.096790</td>\n",
       "      <td>0.171767</td>\n",
       "      <td>12.163716</td>\n",
       "      <td>-31.201916</td>\n",
       "      <td>44.412453</td>\n",
       "    </tr>\n",
       "    <tr>\n",
       "      <th>4</th>\n",
       "      <td>[[8.23007792855], [-2.17443133832], [4.5248069...</td>\n",
       "      <td>0.144034</td>\n",
       "      <td>0.161191</td>\n",
       "      <td>4483.695393</td>\n",
       "      <td>317.436288</td>\n",
       "      <td>[[9.3762321705], [25.6346101152], [-25.0789219...</td>\n",
       "      <td>9.006770</td>\n",
       "      <td>8.230078</td>\n",
       "      <td>-2.174431</td>\n",
       "      <td>4.524807</td>\n",
       "      <td>...</td>\n",
       "      <td>-3.538398</td>\n",
       "      <td>-19.752199</td>\n",
       "      <td>4.752701</td>\n",
       "      <td>-9.401384</td>\n",
       "      <td>-37.655377</td>\n",
       "      <td>-9.369187</td>\n",
       "      <td>-23.589658</td>\n",
       "      <td>21.123571</td>\n",
       "      <td>-30.352550</td>\n",
       "      <td>17.358613</td>\n",
       "    </tr>\n",
       "  </tbody>\n",
       "</table>\n",
       "<p>5 rows × 96 columns</p>\n",
       "</div>"
      ],
      "text/plain": [
       "                                               Betas    Lambda       Rho  \\\n",
       "0  [[12.2647775146], [-2.36518851338], [4.5817283...  0.500000 -0.500000   \n",
       "1  [[12.9055148298], [-2.6301133227], [4.18624320...  0.500000 -0.500000   \n",
       "2  [[13.2961200193], [-2.43562867492], [4.9240429...  0.500000 -0.422152   \n",
       "3  [[10.2770039172], [-2.28543779039], [4.6009871...  0.057989 -0.422152   \n",
       "4  [[8.23007792855], [-2.17443133832], [4.5248069...  0.144034  0.161191   \n",
       "\n",
       "      Sigma2_e    Sigma2_u                                             Thetas  \\\n",
       "0  4966.621267  742.281701  [[-43.9760679774], [28.5987743804], [-26.99454...   \n",
       "1  4733.858089  744.841996  [[-46.7661232582], [44.6204867896], [-67.99665...   \n",
       "2  5418.969249  500.815850  [[-15.1157366218], [29.033029582], [-11.410346...   \n",
       "3  4601.162014  520.664261  [[-15.3262025208], [17.7470136266], [-56.89002...   \n",
       "4  4483.695393  317.436288  [[9.3762321705], [25.6346101152], [-25.0789219...   \n",
       "\n",
       "    Betas_4    Betas_0   Betas_1   Betas_2    ...       Theta_75   Theta_76  \\\n",
       "0  8.833413  12.264778 -2.365189  4.581728    ...      55.303508 -19.620614   \n",
       "1  8.756852  12.905515 -2.630113  4.186243    ...      24.038881 -17.022510   \n",
       "2  9.014628  13.296120 -2.435629  4.924043    ...      24.998252 -52.375880   \n",
       "3  8.624542  10.277004 -2.285438  4.600987    ...       9.238097 -17.485979   \n",
       "4  9.006770   8.230078 -2.174431  4.524807    ...      -3.538398 -19.752199   \n",
       "\n",
       "    Theta_77   Theta_78   Theta_79   Theta_80   Theta_81   Theta_82  \\\n",
       "0 -16.843181 -42.399414 -41.913595  15.265119 -34.903610   5.470794   \n",
       "1 -30.920141  -7.006960 -42.780627  21.461160  -9.280353   8.390619   \n",
       "2  -3.794317 -65.874641 -47.014721  35.563526 -25.011838  -1.771365   \n",
       "3  48.965395  -5.800342 -47.856409 -35.096790   0.171767  12.163716   \n",
       "4   4.752701  -9.401384 -37.655377  -9.369187 -23.589658  21.123571   \n",
       "\n",
       "    Theta_83   Theta_84  \n",
       "0 -34.452882   0.691495  \n",
       "1 -31.456346 -10.422397  \n",
       "2  -0.561034  25.650246  \n",
       "3 -31.201916  44.412453  \n",
       "4 -30.352550  17.358613  \n",
       "\n",
       "[5 rows x 96 columns]"
      ]
     },
     "execution_count": 61,
     "metadata": {},
     "output_type": "execute_result"
    }
   ],
   "source": [
    "newdf.head()"
   ]
  },
  {
   "cell_type": "code",
   "execution_count": 128,
   "metadata": {
    "collapsed": false
   },
   "outputs": [
    {
     "name": "stderr",
     "output_type": "stream",
     "text": [
      "/home/ljw/dev/hlm/hlm/utils.py:141: ComplexWarning: Casting complex values to real discards the imaginary part\n",
      "  emin = emin.astype(float)\n"
     ]
    },
    {
     "data": {
      "text/plain": [
       "<module 'sims.test' from '/home/ljw/dev/hlm/sims/test.py'>"
      ]
     },
     "execution_count": 128,
     "metadata": {},
     "output_type": "execute_result"
    }
   ],
   "source": [
    "import sims.test as st\n",
    "import imp\n",
    "imp.reload(st)"
   ]
  },
  {
   "cell_type": "code",
   "execution_count": 129,
   "metadata": {
    "collapsed": false
   },
   "outputs": [],
   "source": [
    "table = st.trace_to_df(dh.trace)"
   ]
  },
  {
   "cell_type": "code",
   "execution_count": 130,
   "metadata": {
    "collapsed": false
   },
   "outputs": [
    {
     "data": {
      "text/html": [
       "<div>\n",
       "<table border=\"1\" class=\"dataframe\">\n",
       "  <thead>\n",
       "    <tr style=\"text-align: right;\">\n",
       "      <th></th>\n",
       "      <th>Lambda</th>\n",
       "      <th>Rho</th>\n",
       "      <th>Betas_0</th>\n",
       "      <th>Betas_1</th>\n",
       "      <th>Betas_2</th>\n",
       "      <th>Betas_3</th>\n",
       "      <th>Betas_4</th>\n",
       "      <th>Sigma2_e</th>\n",
       "      <th>Sigma2_u</th>\n",
       "      <th>Thetas_0</th>\n",
       "      <th>...</th>\n",
       "      <th>Thetas_75</th>\n",
       "      <th>Thetas_76</th>\n",
       "      <th>Thetas_77</th>\n",
       "      <th>Thetas_78</th>\n",
       "      <th>Thetas_79</th>\n",
       "      <th>Thetas_80</th>\n",
       "      <th>Thetas_81</th>\n",
       "      <th>Thetas_82</th>\n",
       "      <th>Thetas_83</th>\n",
       "      <th>Thetas_84</th>\n",
       "    </tr>\n",
       "  </thead>\n",
       "  <tbody>\n",
       "    <tr>\n",
       "      <th>0</th>\n",
       "      <td>0.500000</td>\n",
       "      <td>-0.500000</td>\n",
       "      <td>12.264778</td>\n",
       "      <td>-2.365189</td>\n",
       "      <td>4.581728</td>\n",
       "      <td>-6.478775</td>\n",
       "      <td>8.833413</td>\n",
       "      <td>4966.621267</td>\n",
       "      <td>742.281701</td>\n",
       "      <td>-43.976068</td>\n",
       "      <td>...</td>\n",
       "      <td>55.303508</td>\n",
       "      <td>-19.620614</td>\n",
       "      <td>-16.843181</td>\n",
       "      <td>-42.399414</td>\n",
       "      <td>-41.913595</td>\n",
       "      <td>15.265119</td>\n",
       "      <td>-34.903610</td>\n",
       "      <td>5.470794</td>\n",
       "      <td>-34.452882</td>\n",
       "      <td>0.691495</td>\n",
       "    </tr>\n",
       "    <tr>\n",
       "      <th>1</th>\n",
       "      <td>0.500000</td>\n",
       "      <td>-0.500000</td>\n",
       "      <td>12.905515</td>\n",
       "      <td>-2.630113</td>\n",
       "      <td>4.186243</td>\n",
       "      <td>-6.056636</td>\n",
       "      <td>8.756852</td>\n",
       "      <td>4733.858089</td>\n",
       "      <td>744.841996</td>\n",
       "      <td>-46.766123</td>\n",
       "      <td>...</td>\n",
       "      <td>24.038881</td>\n",
       "      <td>-17.022510</td>\n",
       "      <td>-30.920141</td>\n",
       "      <td>-7.006960</td>\n",
       "      <td>-42.780627</td>\n",
       "      <td>21.461160</td>\n",
       "      <td>-9.280353</td>\n",
       "      <td>8.390619</td>\n",
       "      <td>-31.456346</td>\n",
       "      <td>-10.422397</td>\n",
       "    </tr>\n",
       "    <tr>\n",
       "      <th>2</th>\n",
       "      <td>0.500000</td>\n",
       "      <td>-0.422152</td>\n",
       "      <td>13.296120</td>\n",
       "      <td>-2.435629</td>\n",
       "      <td>4.924043</td>\n",
       "      <td>-6.731176</td>\n",
       "      <td>9.014628</td>\n",
       "      <td>5418.969249</td>\n",
       "      <td>500.815850</td>\n",
       "      <td>-15.115737</td>\n",
       "      <td>...</td>\n",
       "      <td>24.998252</td>\n",
       "      <td>-52.375880</td>\n",
       "      <td>-3.794317</td>\n",
       "      <td>-65.874641</td>\n",
       "      <td>-47.014721</td>\n",
       "      <td>35.563526</td>\n",
       "      <td>-25.011838</td>\n",
       "      <td>-1.771365</td>\n",
       "      <td>-0.561034</td>\n",
       "      <td>25.650246</td>\n",
       "    </tr>\n",
       "    <tr>\n",
       "      <th>3</th>\n",
       "      <td>0.057989</td>\n",
       "      <td>-0.422152</td>\n",
       "      <td>10.277004</td>\n",
       "      <td>-2.285438</td>\n",
       "      <td>4.600987</td>\n",
       "      <td>-6.464233</td>\n",
       "      <td>8.624542</td>\n",
       "      <td>4601.162014</td>\n",
       "      <td>520.664261</td>\n",
       "      <td>-15.326203</td>\n",
       "      <td>...</td>\n",
       "      <td>9.238097</td>\n",
       "      <td>-17.485979</td>\n",
       "      <td>48.965395</td>\n",
       "      <td>-5.800342</td>\n",
       "      <td>-47.856409</td>\n",
       "      <td>-35.096790</td>\n",
       "      <td>0.171767</td>\n",
       "      <td>12.163716</td>\n",
       "      <td>-31.201916</td>\n",
       "      <td>44.412453</td>\n",
       "    </tr>\n",
       "    <tr>\n",
       "      <th>4</th>\n",
       "      <td>0.144034</td>\n",
       "      <td>0.161191</td>\n",
       "      <td>8.230078</td>\n",
       "      <td>-2.174431</td>\n",
       "      <td>4.524807</td>\n",
       "      <td>-6.420603</td>\n",
       "      <td>9.006770</td>\n",
       "      <td>4483.695393</td>\n",
       "      <td>317.436288</td>\n",
       "      <td>9.376232</td>\n",
       "      <td>...</td>\n",
       "      <td>-3.538398</td>\n",
       "      <td>-19.752199</td>\n",
       "      <td>4.752701</td>\n",
       "      <td>-9.401384</td>\n",
       "      <td>-37.655377</td>\n",
       "      <td>-9.369187</td>\n",
       "      <td>-23.589658</td>\n",
       "      <td>21.123571</td>\n",
       "      <td>-30.352550</td>\n",
       "      <td>17.358613</td>\n",
       "    </tr>\n",
       "  </tbody>\n",
       "</table>\n",
       "<p>5 rows × 94 columns</p>\n",
       "</div>"
      ],
      "text/plain": [
       "     Lambda       Rho    Betas_0   Betas_1   Betas_2   Betas_3   Betas_4  \\\n",
       "0  0.500000 -0.500000  12.264778 -2.365189  4.581728 -6.478775  8.833413   \n",
       "1  0.500000 -0.500000  12.905515 -2.630113  4.186243 -6.056636  8.756852   \n",
       "2  0.500000 -0.422152  13.296120 -2.435629  4.924043 -6.731176  9.014628   \n",
       "3  0.057989 -0.422152  10.277004 -2.285438  4.600987 -6.464233  8.624542   \n",
       "4  0.144034  0.161191   8.230078 -2.174431  4.524807 -6.420603  9.006770   \n",
       "\n",
       "      Sigma2_e    Sigma2_u   Thetas_0    ...      Thetas_75  Thetas_76  \\\n",
       "0  4966.621267  742.281701 -43.976068    ...      55.303508 -19.620614   \n",
       "1  4733.858089  744.841996 -46.766123    ...      24.038881 -17.022510   \n",
       "2  5418.969249  500.815850 -15.115737    ...      24.998252 -52.375880   \n",
       "3  4601.162014  520.664261 -15.326203    ...       9.238097 -17.485979   \n",
       "4  4483.695393  317.436288   9.376232    ...      -3.538398 -19.752199   \n",
       "\n",
       "   Thetas_77  Thetas_78  Thetas_79  Thetas_80  Thetas_81  Thetas_82  \\\n",
       "0 -16.843181 -42.399414 -41.913595  15.265119 -34.903610   5.470794   \n",
       "1 -30.920141  -7.006960 -42.780627  21.461160  -9.280353   8.390619   \n",
       "2  -3.794317 -65.874641 -47.014721  35.563526 -25.011838  -1.771365   \n",
       "3  48.965395  -5.800342 -47.856409 -35.096790   0.171767  12.163716   \n",
       "4   4.752701  -9.401384 -37.655377  -9.369187 -23.589658  21.123571   \n",
       "\n",
       "   Thetas_83  Thetas_84  \n",
       "0 -34.452882   0.691495  \n",
       "1 -31.456346 -10.422397  \n",
       "2  -0.561034  25.650246  \n",
       "3 -31.201916  44.412453  \n",
       "4 -30.352550  17.358613  \n",
       "\n",
       "[5 rows x 94 columns]"
      ]
     },
     "execution_count": 130,
     "metadata": {},
     "output_type": "execute_result"
    }
   ],
   "source": [
    "table.head()"
   ]
  },
  {
   "cell_type": "code",
   "execution_count": 132,
   "metadata": {
    "collapsed": false
   },
   "outputs": [
    {
     "data": {
      "text/html": [
       "<div>\n",
       "<table border=\"1\" class=\"dataframe\">\n",
       "  <thead>\n",
       "    <tr style=\"text-align: right;\">\n",
       "      <th></th>\n",
       "      <th>Lambda</th>\n",
       "      <th>Rho</th>\n",
       "      <th>Betas_0</th>\n",
       "      <th>Betas_1</th>\n",
       "      <th>Betas_2</th>\n",
       "      <th>Betas_3</th>\n",
       "      <th>Betas_4</th>\n",
       "      <th>Sigma2_e</th>\n",
       "      <th>Sigma2_u</th>\n",
       "    </tr>\n",
       "  </thead>\n",
       "  <tbody>\n",
       "    <tr>\n",
       "      <th>count</th>\n",
       "      <td>1000.000000</td>\n",
       "      <td>1000.000000</td>\n",
       "      <td>1000.000000</td>\n",
       "      <td>1000.000000</td>\n",
       "      <td>1000.000000</td>\n",
       "      <td>1000.000000</td>\n",
       "      <td>1000.000000</td>\n",
       "      <td>1000.000000</td>\n",
       "      <td>1000.000000</td>\n",
       "    </tr>\n",
       "    <tr>\n",
       "      <th>mean</th>\n",
       "      <td>-0.097961</td>\n",
       "      <td>0.493928</td>\n",
       "      <td>4.863513</td>\n",
       "      <td>-1.999152</td>\n",
       "      <td>3.994803</td>\n",
       "      <td>-5.994111</td>\n",
       "      <td>8.010958</td>\n",
       "      <td>31.704892</td>\n",
       "      <td>26.009040</td>\n",
       "    </tr>\n",
       "    <tr>\n",
       "      <th>std</th>\n",
       "      <td>0.157145</td>\n",
       "      <td>0.065549</td>\n",
       "      <td>0.716138</td>\n",
       "      <td>0.031749</td>\n",
       "      <td>0.046026</td>\n",
       "      <td>0.036563</td>\n",
       "      <td>0.065251</td>\n",
       "      <td>343.718855</td>\n",
       "      <td>40.813121</td>\n",
       "    </tr>\n",
       "    <tr>\n",
       "      <th>min</th>\n",
       "      <td>-0.672503</td>\n",
       "      <td>-0.500000</td>\n",
       "      <td>3.140407</td>\n",
       "      <td>-2.630113</td>\n",
       "      <td>3.913629</td>\n",
       "      <td>-6.731176</td>\n",
       "      <td>7.931638</td>\n",
       "      <td>3.573786</td>\n",
       "      <td>13.209770</td>\n",
       "    </tr>\n",
       "    <tr>\n",
       "      <th>25%</th>\n",
       "      <td>-0.202656</td>\n",
       "      <td>0.497784</td>\n",
       "      <td>4.503879</td>\n",
       "      <td>-2.001659</td>\n",
       "      <td>3.986484</td>\n",
       "      <td>-5.996512</td>\n",
       "      <td>8.000313</td>\n",
       "      <td>3.984154</td>\n",
       "      <td>20.165151</td>\n",
       "    </tr>\n",
       "    <tr>\n",
       "      <th>50%</th>\n",
       "      <td>-0.104061</td>\n",
       "      <td>0.498396</td>\n",
       "      <td>4.824617</td>\n",
       "      <td>-1.996805</td>\n",
       "      <td>3.991705</td>\n",
       "      <td>-5.991666</td>\n",
       "      <td>8.005423</td>\n",
       "      <td>4.129663</td>\n",
       "      <td>22.402213</td>\n",
       "    </tr>\n",
       "    <tr>\n",
       "      <th>75%</th>\n",
       "      <td>0.016347</td>\n",
       "      <td>0.499602</td>\n",
       "      <td>5.193148</td>\n",
       "      <td>-1.991938</td>\n",
       "      <td>3.996887</td>\n",
       "      <td>-5.986701</td>\n",
       "      <td>8.010851</td>\n",
       "      <td>4.275174</td>\n",
       "      <td>25.331245</td>\n",
       "    </tr>\n",
       "    <tr>\n",
       "      <th>max</th>\n",
       "      <td>0.500000</td>\n",
       "      <td>0.552824</td>\n",
       "      <td>13.296120</td>\n",
       "      <td>-1.923143</td>\n",
       "      <td>4.924043</td>\n",
       "      <td>-5.952193</td>\n",
       "      <td>9.014628</td>\n",
       "      <td>5418.969249</td>\n",
       "      <td>744.841996</td>\n",
       "    </tr>\n",
       "  </tbody>\n",
       "</table>\n",
       "</div>"
      ],
      "text/plain": [
       "            Lambda          Rho      Betas_0      Betas_1      Betas_2  \\\n",
       "count  1000.000000  1000.000000  1000.000000  1000.000000  1000.000000   \n",
       "mean     -0.097961     0.493928     4.863513    -1.999152     3.994803   \n",
       "std       0.157145     0.065549     0.716138     0.031749     0.046026   \n",
       "min      -0.672503    -0.500000     3.140407    -2.630113     3.913629   \n",
       "25%      -0.202656     0.497784     4.503879    -2.001659     3.986484   \n",
       "50%      -0.104061     0.498396     4.824617    -1.996805     3.991705   \n",
       "75%       0.016347     0.499602     5.193148    -1.991938     3.996887   \n",
       "max       0.500000     0.552824    13.296120    -1.923143     4.924043   \n",
       "\n",
       "           Betas_3      Betas_4     Sigma2_e     Sigma2_u  \n",
       "count  1000.000000  1000.000000  1000.000000  1000.000000  \n",
       "mean     -5.994111     8.010958    31.704892    26.009040  \n",
       "std       0.036563     0.065251   343.718855    40.813121  \n",
       "min      -6.731176     7.931638     3.573786    13.209770  \n",
       "25%      -5.996512     8.000313     3.984154    20.165151  \n",
       "50%      -5.991666     8.005423     4.129663    22.402213  \n",
       "75%      -5.986701     8.010851     4.275174    25.331245  \n",
       "max      -5.952193     9.014628  5418.969249   744.841996  "
      ]
     },
     "execution_count": 132,
     "metadata": {},
     "output_type": "execute_result"
    }
   ],
   "source": [
    "table[[c for c in table.columns if not c.startswith('Theta')]].describe()"
   ]
  },
  {
   "cell_type": "code",
   "execution_count": 133,
   "metadata": {
    "collapsed": true
   },
   "outputs": [],
   "source": [
    "import seaborn as sns\n",
    "import matplotlib.pyplot as plt\n",
    "%matplotlib inline"
   ]
  },
  {
   "cell_type": "code",
   "execution_count": 134,
   "metadata": {
    "collapsed": false
   },
   "outputs": [
    {
     "data": {
      "text/plain": [
       "<matplotlib.axes._subplots.AxesSubplot at 0x7fb9fa94b9b0>"
      ]
     },
     "execution_count": 134,
     "metadata": {},
     "output_type": "execute_result"
    },
    {
     "data": {
      "image/png": "[encoded data removed]",
      "text/plain": [
       "<matplotlib.figure.Figure at 0x7fb9fcbcb828>"
      ]
     },
     "metadata": {},
     "output_type": "display_data"
    }
   ],
   "source": [
    "sns.distplot(table.Lambda)"
   ]
  },
  {
   "cell_type": "code",
   "execution_count": 136,
   "metadata": {
    "collapsed": false
   },
   "outputs": [
    {
     "data": {
      "text/plain": [
       "<matplotlib.axes._subplots.AxesSubplot at 0x7fb9feba1748>"
      ]
     },
     "execution_count": 136,
     "metadata": {},
     "output_type": "execute_result"
    },
    {
     "data": {
      "image/png": "[encoded data removed]",
      "text/plain": [
       "<matplotlib.figure.Figure at 0x7fb9fa9ae198>"
      ]
     },
     "metadata": {},
     "output_type": "display_data"
    }
   ],
   "source": [
    "sns.distplot(table.Rho)"
   ]
  },
  {
   "cell_type": "code",
   "execution_count": 139,
   "metadata": {
    "collapsed": false
   },
   "outputs": [
    {
     "data": {
      "text/plain": [
       "<matplotlib.axes._subplots.AxesSubplot at 0x7fb9fc797dd8>"
      ]
     },
     "execution_count": 139,
     "metadata": {},
     "output_type": "execute_result"
    },
    {
     "data": {
      "image/png": "[encoded data removed]",
      "text/plain": [
       "<matplotlib.figure.Figure at 0x7fb9fc771438>"
      ]
     },
     "metadata": {},
     "output_type": "display_data"
    }
   ],
   "source": [
    "sns.distplot(table.Betas_0)"
   ]
  },
  {
   "cell_type": "code",
   "execution_count": 140,
   "metadata": {
    "collapsed": false
   },
   "outputs": [
    {
     "data": {
      "text/plain": [
       "<matplotlib.axes._subplots.AxesSubplot at 0x7fb9f81adeb8>"
      ]
     },
     "execution_count": 140,
     "metadata": {},
     "output_type": "execute_result"
    },
    {
     "data": {
      "image/png": "[encoded data removed]",
      "text/plain": [
       "<matplotlib.figure.Figure at 0x7fb9f81a9588>"
      ]
     },
     "metadata": {},
     "output_type": "display_data"
    }
   ],
   "source": [
    "sns.distplot(table.Betas_1)"
   ]
  },
  {
   "cell_type": "code",
   "execution_count": 141,
   "metadata": {
    "collapsed": false
   },
   "outputs": [
    {
     "data": {
      "text/plain": [
       "<matplotlib.axes._subplots.AxesSubplot at 0x7fb9f8186908>"
      ]
     },
     "execution_count": 141,
     "metadata": {},
     "output_type": "execute_result"
    },
    {
     "data": {
      "image/png": "[encoded data removed]",
      "text/plain": [
       "<matplotlib.figure.Figure at 0x7fb9f8104ac8>"
      ]
     },
     "metadata": {},
     "output_type": "display_data"
    }
   ],
   "source": [
    "sns.distplot(table.Betas_2)"
   ]
  },
  {
   "cell_type": "code",
   "execution_count": 142,
   "metadata": {
    "collapsed": false
   },
   "outputs": [
    {
     "data": {
      "text/plain": [
       "<matplotlib.axes._subplots.AxesSubplot at 0x7fb9f802d630>"
      ]
     },
     "execution_count": 142,
     "metadata": {},
     "output_type": "execute_result"
    },
    {
     "data": {
      "image/png": "[encoded data removed]",
      "text/plain": [
       "<matplotlib.figure.Figure at 0x7fb9f3f920b8>"
      ]
     },
     "metadata": {},
     "output_type": "display_data"
    }
   ],
   "source": [
    "sns.distplot(table.Betas_3)"
   ]
  },
  {
   "cell_type": "code",
   "execution_count": 143,
   "metadata": {
    "collapsed": false
   },
   "outputs": [
    {
     "data": {
      "text/plain": [
       "<matplotlib.axes._subplots.AxesSubplot at 0x7fb9f80f9ac8>"
      ]
     },
     "execution_count": 143,
     "metadata": {},
     "output_type": "execute_result"
    },
    {
     "data": {
      "image/png": "[encoded data removed]",
      "text/plain": [
       "<matplotlib.figure.Figure at 0x7fb9f3e434e0>"
      ]
     },
     "metadata": {},
     "output_type": "display_data"
    }
   ],
   "source": [
    "sns.distplot(table.Betas_4)"
   ]
  },
  {
   "cell_type": "code",
   "execution_count": 144,
   "metadata": {
    "collapsed": false
   },
   "outputs": [
    {
     "data": {
      "text/plain": [
       "<matplotlib.axes._subplots.AxesSubplot at 0x7fb9f3dbccc0>"
      ]
     },
     "execution_count": 144,
     "metadata": {},
     "output_type": "execute_result"
    },
    {
     "data": {
      "image/png": "[encoded data removed]",
      "text/plain": [
       "<matplotlib.figure.Figure at 0x7fb9f3dba4a8>"
      ]
     },
     "metadata": {},
     "output_type": "display_data"
    }
   ],
   "source": [
    "sns.distplot(table.Sigma2_e)"
   ]
  },
  {
   "cell_type": "code",
   "execution_count": 145,
   "metadata": {
    "collapsed": false
   },
   "outputs": [
    {
     "data": {
      "text/plain": [
       "<matplotlib.axes._subplots.AxesSubplot at 0x7fb9f3cc7c50>"
      ]
     },
     "execution_count": 145,
     "metadata": {},
     "output_type": "execute_result"
    },
    {
     "data": {
      "image/png": "[encoded data removed]",
      "text/plain": [
       "<matplotlib.figure.Figure at 0x7fb9f3dba6d8>"
      ]
     },
     "metadata": {},
     "output_type": "display_data"
    }
   ],
   "source": [
    "sns.distplot(table.Sigma2_u)"
   ]
  }
 ],
 "metadata": {
  "kernelspec": {
   "display_name": "Python 3",
   "language": "python",
   "name": "python3"
  },
  "language_info": {
   "codemirror_mode": {
    "name": "ipython",
    "version": 3
   },
   "file_extension": ".py",
   "mimetype": "text/x-python",
   "name": "python",
   "nbconvert_exporter": "python",
   "pygments_lexer": "ipython3",
   "version": "3.5.1"
  }
 },
 "nbformat": 4,
 "nbformat_minor": 0
}
