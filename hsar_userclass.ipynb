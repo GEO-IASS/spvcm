{
 "cells": [
  {
   "cell_type": "markdown",
   "metadata": {},
   "source": [
    "I'll be showing how the HSAR userclass works and comparing the results from OLS and the HSAR in estimating effects for the example data provided."
   ]
  },
  {
   "cell_type": "code",
   "execution_count": 19,
   "metadata": {
    "collapsed": true
   },
   "outputs": [],
   "source": [
    "import hlm\n",
    "import pysal as ps\n",
    "import pandas as pd\n",
    "import numpy as np"
   ]
  },
  {
   "cell_type": "code",
   "execution_count": 5,
   "metadata": {
    "collapsed": false
   },
   "outputs": [],
   "source": [
    "data = pd.read_csv('./hlm/dong_harris/tests/test.csv')"
   ]
  },
  {
   "cell_type": "code",
   "execution_count": 6,
   "metadata": {
    "collapsed": false
   },
   "outputs": [
    {
     "data": {
      "text/html": [
       "<div>\n",
       "<table border=\"1\" class=\"dataframe\">\n",
       "  <thead>\n",
       "    <tr style=\"text-align: right;\">\n",
       "      <th></th>\n",
       "      <th>id</th>\n",
       "      <th>u.full</th>\n",
       "      <th>y</th>\n",
       "      <th>x</th>\n",
       "      <th>county</th>\n",
       "    </tr>\n",
       "  </thead>\n",
       "  <tbody>\n",
       "    <tr>\n",
       "      <th>0</th>\n",
       "      <td>0</td>\n",
       "      <td>-0.689048</td>\n",
       "      <td>0.788457</td>\n",
       "      <td>1</td>\n",
       "      <td>1</td>\n",
       "    </tr>\n",
       "    <tr>\n",
       "      <th>1</th>\n",
       "      <td>1</td>\n",
       "      <td>-0.689048</td>\n",
       "      <td>0.788457</td>\n",
       "      <td>0</td>\n",
       "      <td>1</td>\n",
       "    </tr>\n",
       "    <tr>\n",
       "      <th>2</th>\n",
       "      <td>2</td>\n",
       "      <td>-0.689048</td>\n",
       "      <td>1.064711</td>\n",
       "      <td>0</td>\n",
       "      <td>1</td>\n",
       "    </tr>\n",
       "    <tr>\n",
       "      <th>3</th>\n",
       "      <td>3</td>\n",
       "      <td>-0.689048</td>\n",
       "      <td>0.000000</td>\n",
       "      <td>0</td>\n",
       "      <td>1</td>\n",
       "    </tr>\n",
       "    <tr>\n",
       "      <th>4</th>\n",
       "      <td>4</td>\n",
       "      <td>-0.847313</td>\n",
       "      <td>1.131402</td>\n",
       "      <td>0</td>\n",
       "      <td>2</td>\n",
       "    </tr>\n",
       "  </tbody>\n",
       "</table>\n",
       "</div>"
      ],
      "text/plain": [
       "   id    u.full         y  x  county\n",
       "0   0 -0.689048  0.788457  1       1\n",
       "1   1 -0.689048  0.788457  0       1\n",
       "2   2 -0.689048  1.064711  0       1\n",
       "3   3 -0.689048  0.000000  0       1\n",
       "4   4 -0.847313  1.131402  0       2"
      ]
     },
     "execution_count": 6,
     "metadata": {},
     "output_type": "execute_result"
    }
   ],
   "source": [
    "data.head()"
   ]
  },
  {
   "cell_type": "code",
   "execution_count": 8,
   "metadata": {
    "collapsed": false
   },
   "outputs": [],
   "source": [
    "y = data[['y']].values\n",
    "X = data[['x']].values"
   ]
  },
  {
   "cell_type": "code",
   "execution_count": 9,
   "metadata": {
    "collapsed": true
   },
   "outputs": [],
   "source": [
    "W = ps.open('./hlm/dong_harris/tests/w_lower.mtx').read()\n",
    "M = ps.open('./hlm/dong_harris/tests/w_upper.mtx').read()\n",
    "W.transform = M.transform = 'r'"
   ]
  },
  {
   "cell_type": "code",
   "execution_count": 10,
   "metadata": {
    "collapsed": true
   },
   "outputs": [],
   "source": [
    "membership = data[['county']].values - 1"
   ]
  },
  {
   "cell_type": "code",
   "execution_count": 11,
   "metadata": {
    "collapsed": true
   },
   "outputs": [],
   "source": [
    "ols = ps.spreg.OLS(y,X,W)"
   ]
  },
  {
   "cell_type": "code",
   "execution_count": 24,
   "metadata": {
    "collapsed": false
   },
   "outputs": [
    {
     "data": {
      "text/html": [
       "<div>\n",
       "<table border=\"1\" class=\"dataframe\">\n",
       "  <thead>\n",
       "    <tr style=\"text-align: right;\">\n",
       "      <th></th>\n",
       "      <th>$\\beta$</th>\n",
       "      <th>$\\sigma_\\beta$</th>\n",
       "    </tr>\n",
       "  </thead>\n",
       "  <tbody>\n",
       "    <tr>\n",
       "      <th>0</th>\n",
       "      <td>1.326744</td>\n",
       "      <td>0.029721</td>\n",
       "    </tr>\n",
       "    <tr>\n",
       "      <th>1</th>\n",
       "      <td>-0.613395</td>\n",
       "      <td>0.072841</td>\n",
       "    </tr>\n",
       "  </tbody>\n",
       "</table>\n",
       "</div>"
      ],
      "text/plain": [
       "    $\\beta$  $\\sigma_\\beta$\n",
       "0  1.326744        0.029721\n",
       "1 -0.613395        0.072841"
      ]
     },
     "execution_count": 24,
     "metadata": {},
     "output_type": "execute_result"
    }
   ],
   "source": [
    "pd.DataFrame(np.hstack((ols.betas, ols.std_err.reshape(ols.betas.shape))),\n",
    "             columns=['$\\\\beta$', '$\\sigma_\\\\beta$'])"
   ]
  },
  {
   "cell_type": "markdown",
   "metadata": {},
   "source": [
    "Thus, if we just estimate these naively via ols, this is what we get"
   ]
  },
  {
   "cell_type": "markdown",
   "metadata": {},
   "source": [
    "### The Dong Harris HSAR"
   ]
  },
  {
   "cell_type": "markdown",
   "metadata": {},
   "source": [
    "The user class will take 1000 samples if you don't pass a `cycles` argument. So, just to show how the user class works, I'll set it up but not start the sampler."
   ]
  },
  {
   "cell_type": "code",
   "execution_count": 26,
   "metadata": {
    "collapsed": false
   },
   "outputs": [],
   "source": [
    "dh = hlm.HSAR(y,X,W,M,membership=membership, cycles=0)"
   ]
  },
  {
   "cell_type": "markdown",
   "metadata": {},
   "source": [
    "The public methods and attributes in the sampler are:"
   ]
  },
  {
   "cell_type": "code",
   "execution_count": 28,
   "metadata": {
    "collapsed": false
   },
   "outputs": [
    {
     "data": {
      "text/plain": [
       "['M',\n",
       " 'W',\n",
       " 'current',\n",
       " 'cycle',\n",
       " 'cycles',\n",
       " 'front',\n",
       " 'hypers',\n",
       " 'position',\n",
       " 'previous',\n",
       " 'sample',\n",
       " 'samplers',\n",
       " 'step',\n",
       " 'steps',\n",
       " 'trace',\n",
       " 'var_names']"
      ]
     },
     "execution_count": 28,
     "metadata": {},
     "output_type": "execute_result"
    }
   ],
   "source": [
    "[x for x in dir(dh) if not x.startswith('_')]"
   ]
  },
  {
   "cell_type": "markdown",
   "metadata": {},
   "source": [
    "#### Defining a sampler\n",
    "\n",
    "A Gibbs sampler is composed of a list of $p$ distributions $P(.|\\mathcal{S_t})$, where $\\mathcal{S_t}$ is the internal state of the sampler.\n",
    "\n",
    "each $P(.|S_t)$ computes the value of its attached parameter using the current values of the parameters stored in the state. For example, if you have a model with three parameters, $\\alpha$, $\\beta$, $\\theta$, where \n",
    "\n",
    "$$\\alpha \\sim \\mathcal{N}(.5 * \\beta, \\theta)$$\n",
    "$$\\beta \\sim \\mathcal{G}(\\alpha, \\theta)$$\n",
    "$$\\theta \\sim \\mathcal{IG}(\\alpha/2, \\beta)$$\n",
    "\n",
    "then the Gibbs sampler describing that setup would use the conditional distributions:\n",
    "$$ P(\\alpha_{t+1} | \\beta_t, \\theta_t)$$\n",
    "$$ P(\\beta_{t+1} | \\alpha_{t+1}, \\theta_t)$$\n",
    "$$ P(\\theta_{t+1} | \\alpha_{t+1}, \\beta_{t+1})$$\n",
    "\n",
    "The ordered set of these distributions is called $\\mathcal{P}$.  Also, let us say there are $p$ elements in $\\mathcal{P}$. The order of elements in $\\mathcal{P}$ is arbitrary, in theory, but any implementation will likely structure the order to help memoize certain expensive computations. \n",
    "\n",
    "#### Moving around\n",
    "\n",
    "With this, we can define the following terms:\n",
    "- cycles : $t$, the number times all of the conditional posteriors $P_i \\in \\mathcal{P}$ have been executed.\n",
    "- position : the index of the current conditional posterior $P_i$ in $\\mathcal{P}$\n",
    "- steps : the number of cycles times the number of positions in a cycle, that is, the total number of draws from any $P_i$. It is always equal to $cycles * p + position$.\n",
    "\n",
    "With this, we can define a few types of cycles and give some meaning to the parameter sets that come out of the process:\n",
    "- full cycle: a cycle where the starting and ending positions are the same\n",
    "- partial cycle: a cycle where the starting and ending positions are not the same\n",
    "- perfect cycle: a cycle where the ending position is zero\n",
    "- draw : a number or set of numbers drawn from $P_i$, where $i = position$. A draw where only one $P_i$ is used is called a 'step'.\n",
    "- sample : some number, $d$, of draws.\n",
    "\n",
    "Any type of cycle is also a type of sample. Thus, a full perfect sample is one drawn from a cycle that starts and ends at 0. The easiest way to get $s$ samples from the Gibbs sampler is to simply make $s$ full perfect cycles and record the results. \n",
    "\n",
    "#### Using the sampler\n",
    "\n",
    "Thus, let us call our sampler `G`. At its start, it has a position of $0$, and has taken $0$ steps. If the user runs `G.step()`. it will compute a draw of $P_0$ and increment the position by one. If we have more than one $P_i \\in \\mathcal{P}$, it will take a partial perfect cycle to get a full sample. \n",
    "\n",
    "\n",
    "By default, the current parameter values, the most recent draws are stored by default in the sampler state, `G._state`. The set of most recent draws, either in the current cycle or in the previous cycle, is called the *front* of the sampler, or the front sample. That is, its draws constitute a full imperfect sample. \n",
    "\n",
    "The *current* sample is a full perfect sample. It contains the draws that have already been taken in the current cycle, and `None` for draws in the cycle that have not occurred. Likewise, the *previous* sample is a full perfect sample from the previous cycle. \n",
    "\n",
    "This is important, since the Gibbs sampler uses the *front* parameters, which is just the of the *current* and *previous* parmeters.\n",
    "\n",
    "This is actually subclass of a dictionary, and you can do anything with it that you can do with a dictionary. But, it makes its elements available in dot notation as well. So, the following are both valid ways to retrieve something from the sampler state: \n",
    "```python\n",
    "G._state.Betas\n",
    "G._state['Betas']\n",
    "```\n",
    "If you try to store something that would override a dict property or attribute (like `update` or `clear`), a `TypeError` is raised. "
   ]
  },
  {
   "cell_type": "markdown",
   "metadata": {
    "collapsed": true
   },
   "source": [
    "So, I'm using the following terminology to talk about the sampler:\n",
    "- steps: the \n",
    "- cycles\n",
    "- position\n",
    "- sample"
   ]
  },
  {
   "cell_type": "code",
   "execution_count": null,
   "metadata": {
    "collapsed": true
   },
   "outputs": [],
   "source": []
  },
  {
   "cell_type": "code",
   "execution_count": null,
   "metadata": {
    "collapsed": true
   },
   "outputs": [],
   "source": []
  },
  {
   "cell_type": "code",
   "execution_count": null,
   "metadata": {
    "collapsed": true
   },
   "outputs": [],
   "source": []
  },
  {
   "cell_type": "code",
   "execution_count": null,
   "metadata": {
    "collapsed": true
   },
   "outputs": [],
   "source": []
  },
  {
   "cell_type": "code",
   "execution_count": null,
   "metadata": {
    "collapsed": true
   },
   "outputs": [],
   "source": [
    "dh.sample(cycles=1000)"
   ]
  }
 ],
 "metadata": {
  "kernelspec": {
   "display_name": "Python 2",
   "language": "python",
   "name": "python2"
  },
  "language_info": {
   "codemirror_mode": {
    "name": "ipython",
    "version": 2
   },
   "file_extension": ".py",
   "mimetype": "text/x-python",
   "name": "python",
   "nbconvert_exporter": "python",
   "pygments_lexer": "ipython2",
   "version": "2.7.11"
  }
 },
 "nbformat": 4,
 "nbformat_minor": 0
}
