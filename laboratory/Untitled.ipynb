{
 "cells": [
  {
   "cell_type": "code",
   "execution_count": 6,
   "metadata": {
    "collapsed": true
   },
   "outputs": [],
   "source": [
    "library(coda)\n",
    "tr1 <- read.csv('test_0.csv')\n",
    "tr2 <- read.csv('test_1.csv')\n",
    "\n",
    "tr <- coda::mcmc.list(a=mcmc(tr1),b=mcmc(tr2))"
   ]
  },
  {
   "cell_type": "code",
   "execution_count": 40,
   "metadata": {
    "collapsed": true
   },
   "outputs": [],
   "source": [
    "diags <- coda::gelman.diag(tr, multivariate = FALSE, autoburnin = FALSE)"
   ]
  },
  {
   "cell_type": "code",
   "execution_count": 41,
   "metadata": {
    "collapsed": false
   },
   "outputs": [
    {
     "data": {
      "text/html": [
       "<table>\n",
       "<thead><tr><th></th><th scope=col>Point est.</th><th scope=col>Upper C.I.</th></tr></thead>\n",
       "<tbody>\n",
       "\t<tr><th scope=row>X</th><td>      NaN</td><td>     NaN </td></tr>\n",
       "\t<tr><th scope=row>Lambda</th><td>1.0434040</td><td>1.185130 </td></tr>\n",
       "\t<tr><th scope=row>Sigma2</th><td>1.0001161</td><td>1.000342 </td></tr>\n",
       "\t<tr><th scope=row>Tau2</th><td>1.0202597</td><td>1.027106 </td></tr>\n",
       "\t<tr><th scope=row>Alphas_0</th><td>1.5123042</td><td>3.281009 </td></tr>\n",
       "\t<tr><th scope=row>Alphas_1</th><td>1.3436286</td><td>2.258242 </td></tr>\n",
       "\t<tr><th scope=row>Alphas_2</th><td>1.4428963</td><td>2.868623 </td></tr>\n",
       "\t<tr><th scope=row>Alphas_3</th><td>1.5154151</td><td>3.306226 </td></tr>\n",
       "\t<tr><th scope=row>Alphas_4</th><td>1.5359757</td><td>3.372340 </td></tr>\n",
       "\t<tr><th scope=row>Alphas_5</th><td>1.5209125</td><td>3.257564 </td></tr>\n",
       "\t<tr><th scope=row>Alphas_6</th><td>1.5198975</td><td>3.363541 </td></tr>\n",
       "\t<tr><th scope=row>Alphas_7</th><td>1.3994789</td><td>2.715288 </td></tr>\n",
       "\t<tr><th scope=row>Alphas_8</th><td>1.5145713</td><td>3.336440 </td></tr>\n",
       "\t<tr><th scope=row>Alphas_9</th><td>1.5221951</td><td>3.347400 </td></tr>\n",
       "\t<tr><th scope=row>Alphas_10</th><td>1.2799618</td><td>2.088493 </td></tr>\n",
       "\t<tr><th scope=row>Alphas_11</th><td>1.4864687</td><td>3.203501 </td></tr>\n",
       "\t<tr><th scope=row>Alphas_12</th><td>1.5147902</td><td>3.274477 </td></tr>\n",
       "\t<tr><th scope=row>Alphas_13</th><td>1.4241084</td><td>2.823455 </td></tr>\n",
       "\t<tr><th scope=row>Alphas_14</th><td>1.5111468</td><td>3.333979 </td></tr>\n",
       "\t<tr><th scope=row>Alphas_15</th><td>1.4573962</td><td>3.039109 </td></tr>\n",
       "\t<tr><th scope=row>Betas_0</th><td>1.0199275</td><td>1.048319 </td></tr>\n",
       "\t<tr><th scope=row>Betas_1</th><td>1.0008399</td><td>1.004397 </td></tr>\n",
       "\t<tr><th scope=row>Betas_2</th><td>0.9999792</td><td>1.000178 </td></tr>\n",
       "\t<tr><th scope=row>Betas_3</th><td>1.0001861</td><td>1.001197 </td></tr>\n",
       "\t<tr><th scope=row>Betas_4</th><td>1.0724798</td><td>1.274047 </td></tr>\n",
       "\t<tr><th scope=row>Betas_5</th><td>1.0821785</td><td>1.306433 </td></tr>\n",
       "</tbody>\n",
       "</table>\n"
      ],
      "text/latex": [
       "\\begin{tabular}{r|ll}\n",
       "  & Point est. & Upper C.I.\\\\\n",
       "\\hline\n",
       "\tX &       NaN &      NaN \\\\\n",
       "\tLambda & 1.0434040 & 1.185130 \\\\\n",
       "\tSigma2 & 1.0001161 & 1.000342 \\\\\n",
       "\tTau2 & 1.0202597 & 1.027106 \\\\\n",
       "\tAlphas\\_0 & 1.5123042 & 3.281009 \\\\\n",
       "\tAlphas\\_1 & 1.3436286 & 2.258242 \\\\\n",
       "\tAlphas\\_2 & 1.4428963 & 2.868623 \\\\\n",
       "\tAlphas\\_3 & 1.5154151 & 3.306226 \\\\\n",
       "\tAlphas\\_4 & 1.5359757 & 3.372340 \\\\\n",
       "\tAlphas\\_5 & 1.5209125 & 3.257564 \\\\\n",
       "\tAlphas\\_6 & 1.5198975 & 3.363541 \\\\\n",
       "\tAlphas\\_7 & 1.3994789 & 2.715288 \\\\\n",
       "\tAlphas\\_8 & 1.5145713 & 3.336440 \\\\\n",
       "\tAlphas\\_9 & 1.5221951 & 3.347400 \\\\\n",
       "\tAlphas\\_10 & 1.2799618 & 2.088493 \\\\\n",
       "\tAlphas\\_11 & 1.4864687 & 3.203501 \\\\\n",
       "\tAlphas\\_12 & 1.5147902 & 3.274477 \\\\\n",
       "\tAlphas\\_13 & 1.4241084 & 2.823455 \\\\\n",
       "\tAlphas\\_14 & 1.5111468 & 3.333979 \\\\\n",
       "\tAlphas\\_15 & 1.4573962 & 3.039109 \\\\\n",
       "\tBetas\\_0 & 1.0199275 & 1.048319 \\\\\n",
       "\tBetas\\_1 & 1.0008399 & 1.004397 \\\\\n",
       "\tBetas\\_2 & 0.9999792 & 1.000178 \\\\\n",
       "\tBetas\\_3 & 1.0001861 & 1.001197 \\\\\n",
       "\tBetas\\_4 & 1.0724798 & 1.274047 \\\\\n",
       "\tBetas\\_5 & 1.0821785 & 1.306433 \\\\\n",
       "\\end{tabular}\n"
      ],
      "text/markdown": [
       "1. NaN\n",
       "2. 1.04340402337567\n",
       "3. 1.00011608963635\n",
       "4. 1.02025965610015\n",
       "5. 1.51230422707797\n",
       "6. 1.34362863070722\n",
       "7. 1.4428963288398\n",
       "8. 1.51541511214622\n",
       "9. 1.5359757400807\n",
       "10. 1.52091254454842\n",
       "11. 1.5198975293313\n",
       "12. 1.3994788708462\n",
       "13. 1.51457131631428\n",
       "14. 1.52219506225997\n",
       "15. 1.27996180039761\n",
       "16. 1.48646866469491\n",
       "17. 1.51479016013966\n",
       "18. 1.42410844092227\n",
       "19. 1.51114676157976\n",
       "20. 1.45739618985694\n",
       "21. 1.0199275135024\n",
       "22. 1.00083992390913\n",
       "23. 0.999979239154991\n",
       "24. 1.00018605189231\n",
       "25. 1.07247978136639\n",
       "26. 1.08217847568787\n",
       "27. NaN\n",
       "28. 1.18512960007848\n",
       "29. 1.00034201781525\n",
       "30. 1.02710563959969\n",
       "31. 3.28100939571105\n",
       "32. 2.25824195409514\n",
       "33. 2.86862306607573\n",
       "34. 3.30622631165873\n",
       "35. 3.37233999503218\n",
       "36. 3.25756421187056\n",
       "37. 3.36354066037231\n",
       "38. 2.71528775629878\n",
       "39. 3.33644004928233\n",
       "40. 3.34739991480303\n",
       "41. 2.08849341941868\n",
       "42. 3.20350072731414\n",
       "43. 3.27447676094842\n",
       "44. 2.82345463397546\n",
       "45. 3.33397914205522\n",
       "46. 3.03910905831103\n",
       "47. 1.04831875529812\n",
       "48. 1.00439712685599\n",
       "49. 1.00017823789267\n",
       "50. 1.00119672029187\n",
       "51. 1.2740467725006\n",
       "52. 1.30643271168436\n",
       "\n",
       "\n"
      ],
      "text/plain": [
       "          Point est. Upper C.I.\n",
       "X               NaN       NaN  \n",
       "Lambda    1.0434040  1.185130  \n",
       "Sigma2    1.0001161  1.000342  \n",
       "Tau2      1.0202597  1.027106  \n",
       "Alphas_0  1.5123042  3.281009  \n",
       "Alphas_1  1.3436286  2.258242  \n",
       "Alphas_2  1.4428963  2.868623  \n",
       "Alphas_3  1.5154151  3.306226  \n",
       "Alphas_4  1.5359757  3.372340  \n",
       "Alphas_5  1.5209125  3.257564  \n",
       "Alphas_6  1.5198975  3.363541  \n",
       "Alphas_7  1.3994789  2.715288  \n",
       "Alphas_8  1.5145713  3.336440  \n",
       "Alphas_9  1.5221951  3.347400  \n",
       "Alphas_10 1.2799618  2.088493  \n",
       "Alphas_11 1.4864687  3.203501  \n",
       "Alphas_12 1.5147902  3.274477  \n",
       "Alphas_13 1.4241084  2.823455  \n",
       "Alphas_14 1.5111468  3.333979  \n",
       "Alphas_15 1.4573962  3.039109  \n",
       "Betas_0   1.0199275  1.048319  \n",
       "Betas_1   1.0008399  1.004397  \n",
       "Betas_2   0.9999792  1.000178  \n",
       "Betas_3   1.0001861  1.001197  \n",
       "Betas_4   1.0724798  1.274047  \n",
       "Betas_5   1.0821785  1.306433  "
      ]
     },
     "metadata": {},
     "output_type": "display_data"
    }
   ],
   "source": [
    "diags$psrf"
   ]
  },
  {
   "cell_type": "code",
   "execution_count": 16,
   "metadata": {
    "collapsed": false
   },
   "outputs": [],
   "source": [
    "l <- as.matrix(tr1['Lambda'])"
   ]
  },
  {
   "cell_type": "code",
   "execution_count": 35,
   "metadata": {
    "collapsed": true
   },
   "outputs": [],
   "source": [
    "?diag"
   ]
  },
  {
   "cell_type": "code",
   "execution_count": 36,
   "metadata": {
    "collapsed": false
   },
   "outputs": [
    {
     "data": {
      "text/html": [
       "20"
      ],
      "text/latex": [
       "20"
      ],
      "text/markdown": [
       "20"
      ],
      "text/plain": [
       "[1] 20"
      ]
     },
     "metadata": {},
     "output_type": "display_data"
    }
   ],
   "source": [
    "cov(c(1,2,3,4), c(5,6,7,8)**2) - var(c(1,2,3,4), c(5,6,7,8))"
   ]
  },
  {
   "cell_type": "code",
   "execution_count": 37,
   "metadata": {
    "collapsed": true
   },
   "outputs": [],
   "source": [
    "?var"
   ]
  },
  {
   "cell_type": "code",
   "execution_count": 39,
   "metadata": {
    "collapsed": true
   },
   "outputs": [],
   "source": [
    "?sapply"
   ]
  },
  {
   "cell_type": "code",
   "execution_count": null,
   "metadata": {
    "collapsed": true
   },
   "outputs": [],
   "source": []
  },
  {
   "cell_type": "code",
   "execution_count": null,
   "metadata": {
    "collapsed": true
   },
   "outputs": [],
   "source": []
  },
  {
   "cell_type": "code",
   "execution_count": null,
   "metadata": {
    "collapsed": true
   },
   "outputs": [],
   "source": []
  },
  {
   "cell_type": "code",
   "execution_count": null,
   "metadata": {
    "collapsed": true
   },
   "outputs": [],
   "source": []
  }
 ],
 "metadata": {
  "anaconda-cloud": {},
  "kernelspec": {
   "display_name": "R",
   "language": "R",
   "name": "ir"
  },
  "language_info": {
   "codemirror_mode": "r",
   "file_extension": ".r",
   "mimetype": "text/x-r-source",
   "name": "R",
   "pygments_lexer": "r",
   "version": "3.3.1"
  }
 },
 "nbformat": 4,
 "nbformat_minor": 0
}
