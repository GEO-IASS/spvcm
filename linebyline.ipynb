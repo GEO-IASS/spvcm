{
 "cells": [
  {
   "cell_type": "code",
   "execution_count": 1,
   "metadata": {
    "collapsed": false
   },
   "outputs": [],
   "source": [
    "import pysal as ps\n",
    "import hlm as hlm\n",
    "import numpy as np\n",
    "import pandas as pd\n",
    "import scipy.linalg as scla\n",
    "%load_ext rpy2.ipython"
   ]
  },
  {
   "cell_type": "code",
   "execution_count": 2,
   "metadata": {
    "collapsed": true
   },
   "outputs": [],
   "source": [
    "df = pd.read_csv('./test_data/test.csv')"
   ]
  },
  {
   "cell_type": "code",
   "execution_count": 3,
   "metadata": {
    "collapsed": true
   },
   "outputs": [],
   "source": [
    "W = ps.open('./test_data/w_lower.mtx').read()\n",
    "M = ps.open('./test_data/w_upper.mtx').read()"
   ]
  },
  {
   "cell_type": "code",
   "execution_count": 4,
   "metadata": {
    "collapsed": true
   },
   "outputs": [],
   "source": [
    "membership = df.county.values - 1"
   ]
  },
  {
   "cell_type": "code",
   "execution_count": 5,
   "metadata": {
    "collapsed": false
   },
   "outputs": [],
   "source": [
    "Delta, mems = hlm.dong_harris.verify.Delta_members(Delta = None, membership=membership, \n",
    "                                     N=W.n, J=M.n)"
   ]
  },
  {
   "cell_type": "code",
   "execution_count": 6,
   "metadata": {
    "collapsed": true
   },
   "outputs": [],
   "source": [
    "np.testing.assert_allclose(mems, membership)"
   ]
  },
  {
   "cell_type": "code",
   "execution_count": 7,
   "metadata": {
    "collapsed": false
   },
   "outputs": [
    {
     "data": {
      "text/plain": [
       "array([[ 1.,  0.,  0., ...,  0.,  0.,  0.],\n",
       "       [ 1.,  0.,  0., ...,  0.,  0.,  0.],\n",
       "       [ 1.,  0.,  0., ...,  0.,  0.,  0.],\n",
       "       ..., \n",
       "       [ 0.,  0.,  0., ...,  0.,  1.,  0.],\n",
       "       [ 0.,  0.,  0., ...,  0.,  0.,  1.],\n",
       "       [ 0.,  0.,  0., ...,  0.,  0.,  1.]])"
      ]
     },
     "execution_count": 7,
     "metadata": {},
     "output_type": "execute_result"
    }
   ],
   "source": [
    "Delta"
   ]
  },
  {
   "cell_type": "code",
   "execution_count": 8,
   "metadata": {
    "collapsed": false
   },
   "outputs": [],
   "source": [
    "%Rpush Delta"
   ]
  },
  {
   "cell_type": "code",
   "execution_count": 9,
   "metadata": {
    "collapsed": false
   },
   "outputs": [
    {
     "data": {
      "text/html": [
       "<div>\n",
       "<table border=\"1\" class=\"dataframe\">\n",
       "  <thead>\n",
       "    <tr style=\"text-align: right;\">\n",
       "      <th></th>\n",
       "      <th>id</th>\n",
       "      <th>u.full</th>\n",
       "      <th>y</th>\n",
       "      <th>x</th>\n",
       "      <th>county</th>\n",
       "    </tr>\n",
       "  </thead>\n",
       "  <tbody>\n",
       "    <tr>\n",
       "      <th>0</th>\n",
       "      <td>0</td>\n",
       "      <td>-0.689048</td>\n",
       "      <td>0.788457</td>\n",
       "      <td>1</td>\n",
       "      <td>1</td>\n",
       "    </tr>\n",
       "    <tr>\n",
       "      <th>1</th>\n",
       "      <td>1</td>\n",
       "      <td>-0.689048</td>\n",
       "      <td>0.788457</td>\n",
       "      <td>0</td>\n",
       "      <td>1</td>\n",
       "    </tr>\n",
       "    <tr>\n",
       "      <th>2</th>\n",
       "      <td>2</td>\n",
       "      <td>-0.689048</td>\n",
       "      <td>1.064711</td>\n",
       "      <td>0</td>\n",
       "      <td>1</td>\n",
       "    </tr>\n",
       "    <tr>\n",
       "      <th>3</th>\n",
       "      <td>3</td>\n",
       "      <td>-0.689048</td>\n",
       "      <td>0.000000</td>\n",
       "      <td>0</td>\n",
       "      <td>1</td>\n",
       "    </tr>\n",
       "    <tr>\n",
       "      <th>4</th>\n",
       "      <td>4</td>\n",
       "      <td>-0.847313</td>\n",
       "      <td>1.131402</td>\n",
       "      <td>0</td>\n",
       "      <td>2</td>\n",
       "    </tr>\n",
       "  </tbody>\n",
       "</table>\n",
       "</div>"
      ],
      "text/plain": [
       "   id    u.full         y  x  county\n",
       "0   0 -0.689048  0.788457  1       1\n",
       "1   1 -0.689048  0.788457  0       1\n",
       "2   2 -0.689048  1.064711  0       1\n",
       "3   3 -0.689048  0.000000  0       1\n",
       "4   4 -0.847313  1.131402  0       2"
      ]
     },
     "execution_count": 9,
     "metadata": {},
     "output_type": "execute_result"
    }
   ],
   "source": [
    "df.head()"
   ]
  },
  {
   "cell_type": "code",
   "execution_count": 10,
   "metadata": {
    "collapsed": false
   },
   "outputs": [],
   "source": [
    "y = df[['y']].values\n",
    "X = df[['x']].values"
   ]
  },
  {
   "cell_type": "code",
   "execution_count": 11,
   "metadata": {
    "collapsed": true
   },
   "outputs": [],
   "source": [
    "hlm.HSAR?"
   ]
  },
  {
   "cell_type": "code",
   "execution_count": 12,
   "metadata": {
    "collapsed": false
   },
   "outputs": [
    {
     "name": "stderr",
     "output_type": "stream",
     "text": [
      "/home/ljw/dev/hlm/hlm/utils.py:141: ComplexWarning: Casting complex values to real discards the imaginary part\n",
      "  emin = emin.astype(float)\n"
     ]
    }
   ],
   "source": [
    "dh = hlm.HSAR(y, X, W, M, membership=membership, n_samples=0, spatial_method='met')"
   ]
  },
  {
   "cell_type": "code",
   "execution_count": 13,
   "metadata": {
    "collapsed": true
   },
   "outputs": [],
   "source": [
    "st = dh.state"
   ]
  },
  {
   "cell_type": "code",
   "execution_count": 14,
   "metadata": {
    "collapsed": true
   },
   "outputs": [],
   "source": [
    "Betas, Thetas, Sigma2_e, Sigma2_u, Rho, Lambda = \\\n",
    "st.Betas, st.Thetas, st.Sigma2_e, st.Sigma2_u, st.Rho, st.Lambda"
   ]
  },
  {
   "cell_type": "code",
   "execution_count": 15,
   "metadata": {
    "collapsed": true
   },
   "outputs": [],
   "source": [
    "X, y = st.X, st.y"
   ]
  },
  {
   "cell_type": "code",
   "execution_count": 16,
   "metadata": {
    "collapsed": false
   },
   "outputs": [],
   "source": [
    "T0, M0, a0, b0, c0, d0, au, ce, Ij, In, M, W = \\\n",
    "st.T0, st.M0, st.a0, st.b0, st.c0, st.d0, st.au, st.ce, st.Ij, st.In, st.M, st.W"
   ]
  },
  {
   "cell_type": "code",
   "execution_count": 17,
   "metadata": {
    "collapsed": false
   },
   "outputs": [],
   "source": [
    "M = np.asarray(M.todense())\n",
    "W = np.asarray(W.todense())"
   ]
  },
  {
   "cell_type": "code",
   "execution_count": 18,
   "metadata": {
    "collapsed": false
   },
   "outputs": [],
   "source": [
    "%Rpush y X Betas Thetas Sigma2_e Sigma2_u Rho Lambda\n",
    "%Rpush T0 M0 a0 b0 c0 d0 au ce Ij In M W"
   ]
  },
  {
   "cell_type": "markdown",
   "metadata": {},
   "source": [
    "### Beta Parameters"
   ]
  },
  {
   "cell_type": "code",
   "execution_count": 19,
   "metadata": {
    "collapsed": false
   },
   "outputs": [
    {
     "data": {
      "text/plain": [
       "             [,1]         [,2]\n",
       "[1,]  0.002610830 -0.002610488\n",
       "[2,] -0.002610488  0.015680334\n"
      ]
     },
     "metadata": {},
     "output_type": "display_data"
    }
   ],
   "source": [
    "%%R\n",
    "VV <- t(X) %*% X / Sigma2_e + solve(T0)\n",
    "vBetas <- solve(VV)\n",
    "print(vBetas)"
   ]
  },
  {
   "cell_type": "code",
   "execution_count": 20,
   "metadata": {
    "collapsed": false
   },
   "outputs": [
    {
     "data": {
      "text/plain": [
       "array([[ 0.00261083, -0.00261049],\n",
       "       [-0.00261049,  0.01568033]])"
      ]
     },
     "execution_count": 20,
     "metadata": {},
     "output_type": "execute_result"
    }
   ],
   "source": [
    "Sigma_Betas = st.XtX / st.Sigma2_e + st.T0inv\n",
    "Sigma_Betas = scla.inv(Sigma_Betas)\n",
    "\n",
    "Sigma_Betas"
   ]
  },
  {
   "cell_type": "code",
   "execution_count": 21,
   "metadata": {
    "collapsed": false
   },
   "outputs": [
    {
     "data": {
      "text/plain": [
       "           [,1]\n",
       "[1,]  0.7131099\n",
       "[2,] -0.6323667\n"
      ]
     },
     "metadata": {},
     "output_type": "display_data"
    }
   ],
   "source": [
    "%%R\n",
    "A <- In - Rho * W\n",
    "Ay <- A %*% y\n",
    "ZUs <- Delta %*% Thetas\n",
    "mBetas <- vBetas %*% (t(X) %*% (Ay - ZUs) / Sigma2_e + solve(T0)%*%M0)\n",
    "print(mBetas)"
   ]
  },
  {
   "cell_type": "code",
   "execution_count": 22,
   "metadata": {
    "collapsed": false
   },
   "outputs": [
    {
     "name": "stdout",
     "output_type": "stream",
     "text": [
      "[[ 0.71310992]\n",
      " [-0.63236671]]\n"
     ]
    }
   ],
   "source": [
    "A = np.asarray(st.In - st.Rho * st.W)\n",
    "Ay_DThetas = np.dot(A, st.y) - np.dot(st.Delta, st.Thetas)\n",
    "mean_update = np.dot(st.X.T, Ay_DThetas) / st.Sigma2_e\n",
    "Mu_Betas = np.dot(Sigma_Betas, mean_update + st.T0invM0)\n",
    "print(Mu_Betas)"
   ]
  },
  {
   "cell_type": "code",
   "execution_count": 23,
   "metadata": {
    "collapsed": false
   },
   "outputs": [],
   "source": [
    "e = np.random.normal(0, 1, size=(2,1))\n",
    "%Rpush e"
   ]
  },
  {
   "cell_type": "code",
   "execution_count": 24,
   "metadata": {
    "collapsed": false
   },
   "outputs": [
    {
     "data": {
      "text/plain": [
       "           [,1]\n",
       "[1,]  0.7944859\n",
       "[2,] -0.5622076\n"
      ]
     },
     "metadata": {},
     "output_type": "display_data"
    }
   ],
   "source": [
    "%%R \n",
    "Betas <- mBetas + t(chol(vBetas)) %*% e\n",
    "print(Betas)"
   ]
  },
  {
   "cell_type": "code",
   "execution_count": 25,
   "metadata": {
    "collapsed": false
   },
   "outputs": [
    {
     "name": "stdout",
     "output_type": "stream",
     "text": [
      "[[ 0.79448589]\n",
      " [-0.56220761]]\n"
     ]
    }
   ],
   "source": [
    "Betas = Mu_Betas + np.dot(scla.cholesky(Sigma_Betas).T, e)\n",
    "print(Betas)"
   ]
  },
  {
   "cell_type": "markdown",
   "metadata": {},
   "source": [
    "### Theta Parameters"
   ]
  },
  {
   "cell_type": "code",
   "execution_count": 26,
   "metadata": {
    "collapsed": false
   },
   "outputs": [],
   "source": [
    "%%R\n",
    "Z <- Delta\n",
    "B <- Ij - Lambda * M\n",
    "vU <- as.matrix(t(Z)%*%Z / Sigma2_e + t(B)%*%B/Sigma2_u)\n",
    "vU <- solve(vU)\n",
    "Xb <- X%*%Betas\n",
    "mU <- vU %*% (as.numeric(t(Z)%*%(Ay - Xb))/ Sigma2_e)"
   ]
  },
  {
   "cell_type": "code",
   "execution_count": 27,
   "metadata": {
    "collapsed": false
   },
   "outputs": [],
   "source": [
    "%Rpull mU vU"
   ]
  },
  {
   "cell_type": "code",
   "execution_count": 28,
   "metadata": {
    "collapsed": false
   },
   "outputs": [],
   "source": [
    "B = np.asarray(Ij - Lambda * M)\n",
    "BtB = np.dot(B.T, B)\n",
    "\n",
    "Sigma_Thetas = st.DtD/Sigma2_e + BtB/Sigma2_u\n",
    "Sigma_Thetas = scla.inv(Sigma_Thetas)\n",
    "\n",
    "Ay_Xbetas = np.dot(A, st.y) - np.dot(st.X, Betas)\n",
    "mean_kernel = np.dot(Delta.T, Ay_Xbetas) / Sigma2_e\n",
    "Mu_Thetas = np.dot(Sigma_Thetas, mean_kernel)"
   ]
  },
  {
   "cell_type": "code",
   "execution_count": 29,
   "metadata": {
    "collapsed": false
   },
   "outputs": [
    {
     "data": {
      "text/plain": [
       "True"
      ]
     },
     "execution_count": 29,
     "metadata": {},
     "output_type": "execute_result"
    }
   ],
   "source": [
    "np.allclose(vU, Sigma_Thetas)"
   ]
  },
  {
   "cell_type": "code",
   "execution_count": 30,
   "metadata": {
    "collapsed": false
   },
   "outputs": [
    {
     "data": {
      "text/plain": [
       "True"
      ]
     },
     "execution_count": 30,
     "metadata": {},
     "output_type": "execute_result"
    }
   ],
   "source": [
    "np.allclose(mU, Mu_Thetas)"
   ]
  },
  {
   "cell_type": "code",
   "execution_count": 31,
   "metadata": {
    "collapsed": false
   },
   "outputs": [],
   "source": [
    "u = np.random.normal(0,1,size=(M.shape[0],1))\n",
    "%Rpush u"
   ]
  },
  {
   "cell_type": "code",
   "execution_count": 32,
   "metadata": {
    "collapsed": true
   },
   "outputs": [],
   "source": [
    "%%R\n",
    "cholV <- t(chol(vU))\n",
    "Thetas <- mU + cholV%*%u"
   ]
  },
  {
   "cell_type": "code",
   "execution_count": 33,
   "metadata": {
    "collapsed": true
   },
   "outputs": [],
   "source": [
    "%Rpull Thetas\n",
    "r_Thetas = Thetas"
   ]
  },
  {
   "cell_type": "code",
   "execution_count": 34,
   "metadata": {
    "collapsed": true
   },
   "outputs": [],
   "source": [
    "D = scla.cholesky(Sigma_Thetas)\n",
    "kernel = np.dot(D.T, u)\n",
    "Thetas = Mu_Thetas + kernel"
   ]
  },
  {
   "cell_type": "code",
   "execution_count": 35,
   "metadata": {
    "collapsed": false
   },
   "outputs": [
    {
     "data": {
      "text/plain": [
       "True"
      ]
     },
     "execution_count": 35,
     "metadata": {},
     "output_type": "execute_result"
    }
   ],
   "source": [
    "np.allclose(Thetas, r_Thetas)"
   ]
  },
  {
   "cell_type": "markdown",
   "metadata": {},
   "source": [
    "### Variance Parameters"
   ]
  },
  {
   "cell_type": "code",
   "execution_count": 36,
   "metadata": {
    "collapsed": false
   },
   "outputs": [
    {
     "name": "stdout",
     "output_type": "stream",
     "text": [
      "459.51 \n",
      " [[ 353.46761554]]\n"
     ]
    }
   ],
   "source": [
    "deviations = Ay_Xbetas - np.dot(Delta, Thetas)\n",
    "ssds = np.dot(deviations.T, deviations)\n",
    "de = ssds*.5 + d0\n",
    "print(ce,'\\n', de)"
   ]
  },
  {
   "cell_type": "code",
   "execution_count": 37,
   "metadata": {
    "collapsed": false
   },
   "outputs": [
    {
     "data": {
      "text/plain": [
       "[1] 459.51\n",
       "         [,1]\n",
       "[1,] 353.4676\n"
      ]
     },
     "metadata": {},
     "output_type": "display_data"
    }
   ],
   "source": [
    "%%R\n",
    "Zu <- Z %*% Thetas\n",
    "e <- Ay - Zu - Xb\n",
    "de <- .5 * crossprod(e) + d0\n",
    "print(ce)\n",
    "print(de)"
   ]
  },
  {
   "cell_type": "code",
   "execution_count": 38,
   "metadata": {
    "collapsed": false
   },
   "outputs": [
    {
     "name": "stdout",
     "output_type": "stream",
     "text": [
      "42.51 \n",
      " [[ 23.64295797]]\n"
     ]
    }
   ],
   "source": [
    "TtBtBT = np.dot(Thetas.T, np.dot(BtB, Thetas))\n",
    "bu = TtBtBT/2 + b0\n",
    "print(au,'\\n',bu)"
   ]
  },
  {
   "cell_type": "code",
   "execution_count": 39,
   "metadata": {
    "collapsed": false
   },
   "outputs": [
    {
     "data": {
      "text/plain": [
       "[1] 42.51\n",
       "         [,1]\n",
       "[1,] 23.64296\n"
      ]
     },
     "metadata": {},
     "output_type": "display_data"
    }
   ],
   "source": [
    "%%R\n",
    "Bus <- B %*% Thetas\n",
    "bu <- crossprod(Bus)/2 + b0\n",
    "print(au)\n",
    "print(bu)"
   ]
  },
  {
   "cell_type": "markdown",
   "metadata": {},
   "source": [
    "### Rho"
   ]
  },
  {
   "cell_type": "code",
   "execution_count": 40,
   "metadata": {
    "collapsed": false
   },
   "outputs": [
    {
     "name": "stderr",
     "output_type": "stream",
     "text": [
      "/home/ljw/dev/hlm/hlm/utils.py:145: ComplexWarning: Casting complex values to real discards the imaginary part\n",
      "  emin, emax = eigs.min().astype(float), eigs.max().astype(float)\n"
     ]
    },
    {
     "data": {
      "text/plain": [
       "(-0.56223992222209485, 1.0000000000000109)"
      ]
     },
     "execution_count": 40,
     "metadata": {},
     "output_type": "execute_result"
    }
   ],
   "source": [
    "hlm.utils.speigen_range(W)"
   ]
  },
  {
   "cell_type": "code",
   "execution_count": 41,
   "metadata": {
    "collapsed": false
   },
   "outputs": [
    {
     "name": "stderr",
     "output_type": "stream",
     "text": [
      "/home/ljw/dev/hlm/hlm/utils.py:145: ComplexWarning: Casting complex values to real discards the imaginary part\n",
      "  emin, emax = eigs.min().astype(float), eigs.max().astype(float)\n"
     ]
    }
   ],
   "source": [
    "import scipy.sparse.linalg as spla\n",
    "import scipy.sparse as sp\n",
    "from hlm.dong_harris.sample import logp_kernel_rho, logp_kernel_lambda\n",
    "from hlm.utils import splogdet\n",
    "\n",
    "W_emin, W_emax = hlm.utils.speigen_range(W)\n",
    "rhogrid = np.arange(1/W_emin, 1/W_emax, .01)[1:-1]"
   ]
  },
  {
   "cell_type": "code",
   "execution_count": 42,
   "metadata": {
    "collapsed": true
   },
   "outputs": [],
   "source": [
    "rhodets = [splogdet(sp.csc_matrix(In - rho * W)) for rho in rhogrid]"
   ]
  },
  {
   "cell_type": "code",
   "execution_count": 43,
   "metadata": {
    "collapsed": true
   },
   "outputs": [],
   "source": [
    "%Rpush rhogrid rhodets"
   ]
  },
  {
   "cell_type": "code",
   "execution_count": 44,
   "metadata": {
    "collapsed": false
   },
   "outputs": [],
   "source": [
    "%%R\n",
    "Zu <- Delta %*% Thetas"
   ]
  },
  {
   "cell_type": "code",
   "execution_count": 45,
   "metadata": {
    "collapsed": false
   },
   "outputs": [],
   "source": [
    "%%R\n",
    "beta0 <- solve(t(X) %*% X) %*% t(X) %*% y\n",
    "e0 <- y - X %*% beta0\n",
    "e0e0 <- crossprod(e0)\n",
    "\n",
    "\n",
    "Wy <- as.numeric(W %*% y)\n",
    "\n",
    "betad <- solve(t(X) %*% X) %*% t(X) %*% Wy\n",
    "ed <- Wy - X %*% betad\n",
    "eded <- crossprod(ed)\n",
    "\n",
    "e0ed <- crossprod(e0, ed)\n",
    "\n",
    "betau <- solve(t(X) %*% X) %*% t(X) %*% Zu\n",
    "eu <- Zu - X%*%betau\n",
    "eueu <- crossprod(eu)\n",
    "e0eu <- crossprod(e0, eu)\n",
    "edeu <- crossprod(ed,eu)\n",
    "\n",
    "nrho <- length(rhogrid)\n",
    "iota <- rep(1, times=nrho)\n",
    "\n",
    "deviation <- A %*% y - X %*% Betas - Delta %*% Thetas\n",
    "ssds <- t(deviation) %*% deviation / (2 * Sigma2_e)\n",
    "\n",
    "S_rho <- e0e0*iota + rhogrid^2 * eded[1] + eueu[1] - 2*rhogrid*e0ed[1] - 2*e0eu[1] + 2*rhogrid*edeu[1]\n",
    "log_den <- rhodets - S_rho / (2 * Sigma2_e)"
   ]
  },
  {
   "cell_type": "code",
   "execution_count": 46,
   "metadata": {
    "collapsed": false
   },
   "outputs": [],
   "source": [
    "%Rpull log_den ssds S_rho"
   ]
  },
  {
   "cell_type": "code",
   "execution_count": 47,
   "metadata": {
    "collapsed": false
   },
   "outputs": [
    {
     "data": {
      "text/plain": [
       "array([[ 176.72880777]])"
      ]
     },
     "execution_count": 47,
     "metadata": {},
     "output_type": "execute_result"
    }
   ],
   "source": [
    "ssds"
   ]
  },
  {
   "cell_type": "code",
   "execution_count": 48,
   "metadata": {
    "collapsed": true
   },
   "outputs": [],
   "source": [
    "from hlm.dong_harris.sample import logp_kernel_rho, logp_kernel_lambda, logp_rho, logp_lambda"
   ]
  },
  {
   "cell_type": "code",
   "execution_count": 49,
   "metadata": {
    "collapsed": true
   },
   "outputs": [],
   "source": [
    "def kernel(Rho, W, In, X, Betas, Delta, Thetas, Sigma2_e):\n",
    "    A = np.asarray(In - Rho * W)\n",
    "    ssd = A @ y - X @ Betas - Delta @ Thetas\n",
    "    return -1 * ssd.T @ ssd / (2. * Sigma2_e)"
   ]
  },
  {
   "cell_type": "code",
   "execution_count": 50,
   "metadata": {
    "collapsed": true
   },
   "outputs": [],
   "source": [
    "def dh_kernel(rhogrid, W, In, X, Betas, Delta, Thetas, Sigma2_e):\n",
    "    XtXi = scla.inv(X.T @ X)\n",
    "    \n",
    "    beta0 = XtXi @ X.T @ y\n",
    "    e0 = y - X @ beta0\n",
    "    \n",
    "    betad = XtXi @ X.T @ W @ y\n",
    "    ed = W @ y - X @ betad\n",
    "    \n",
    "    betau = XtXi @ X.T @ Delta @ Thetas\n",
    "    eu = Delta @ Thetas - X @ betau\n",
    "    \n",
    "    e0e0 = e0.T @ e0 \n",
    "    e0ed = e0.T @ ed\n",
    "    e0eu = e0.T @ eu\n",
    "    eded = ed.T @ ed\n",
    "    edeu = ed.T @ eu\n",
    "    eueu = eu.T @ eu\n",
    "    e0eu = e0.T @ eu\n",
    "    \n",
    "    iota = np.ones((rhogrid.shape))\n",
    "    \n",
    "    S = e0e0*iota + rhogrid**2 * eded + eueu - 2 * rhogrid * e0ed - 2 * e0eu + 2 * rhogrid * edeu \n",
    "    return -1 * S / (2 * Sigma2_e)"
   ]
  },
  {
   "cell_type": "code",
   "execution_count": 51,
   "metadata": {
    "collapsed": false
   },
   "outputs": [],
   "source": [
    "dhk = dh_kernel(rhogrid, W, In, X, Betas, Delta, Thetas, Sigma2_e)"
   ]
  },
  {
   "cell_type": "code",
   "execution_count": 52,
   "metadata": {
    "collapsed": false
   },
   "outputs": [],
   "source": [
    "_XtXi = scla.inv(X.T @ X)\n",
    "%R XtXi <- solve(t(X) %*% X)\n",
    "\n",
    "_beta0 = _XtXi @ X.T @ y\n",
    "%R beta0 <- XtXi %*% t(X) %*% y\n",
    "\n",
    "_e0 = y - X @ _beta0\n",
    "%R e0 <- y - X %*% beta0\n",
    "\n",
    "_betad = _XtXi @ X.T @ W @ y\n",
    "%R betad <- XtXi %*% t(X) %*% W %*% y\n",
    "\n",
    "_ed = W @ y - X @ _betad\n",
    "%R ed <- W %*% y - X %*% betad\n",
    "\n",
    "_betau = _XtXi @ X.T @ Delta @ Thetas\n",
    "%R betau <- XtXi %*% t(X) %*% Delta %*% Thetas\n",
    "\n",
    "_eu = Delta @ Thetas - X @ _betau\n",
    "%R eu <- Delta %*% Thetas - X %*% betau\n",
    "\n",
    "_e0e0 = _e0.T @ _e0 \n",
    "%R e0e0 <- crossprod(e0)\n",
    "\n",
    "_e0ed = _e0.T @ _ed\n",
    "%R e0ed <- crossprod(e0,ed)\n",
    "\n",
    "_eded = _ed.T @ _ed\n",
    "%R eded <- crossprod(ed)\n",
    "\n",
    "_edeu = _ed.T @ _eu\n",
    "%R edeu <- crossprod(ed, eu)\n",
    "\n",
    "_eueu = _eu.T @ _eu\n",
    "%R eueu <- crossprod(eu)\n",
    "\n",
    "_e0eu = _e0.T @ _eu\n",
    "%R e0eu <- crossprod(e0, eu)\n",
    "\n",
    "_iota = np.ones((rhogrid.shape))\n",
    "%R iota <- rep(1, times=length(rhogrid))\n",
    "\n",
    "_S = (_e0e0*_iota + rhogrid**2* _eded + _eueu \n",
    "      - 2*rhogrid*_e0ed -2*_e0eu + 2*rhogrid*_edeu )"
   ]
  },
  {
   "cell_type": "code",
   "execution_count": 53,
   "metadata": {
    "collapsed": false
   },
   "outputs": [],
   "source": [
    "%%R\n",
    "S <- {e0e0*iota + rhogrid^2*as.numeric(eded) + as.numeric(eueu) - 2*rhogrid*as.numeric(e0ed) - 2*as.numeric(e0eu) + 2*rhogrid*as.numeric(edeu)}"
   ]
  },
  {
   "cell_type": "code",
   "execution_count": 54,
   "metadata": {
    "collapsed": true
   },
   "outputs": [],
   "source": [
    "%Rpull XtXi beta0 e0 e0e0 e0ed e0eu betad ed eded edeu betau eu eueu iota S"
   ]
  },
  {
   "cell_type": "code",
   "execution_count": 55,
   "metadata": {
    "collapsed": false
   },
   "outputs": [
    {
     "name": "stdout",
     "output_type": "stream",
     "text": [
      "XtXi:\t True\n",
      "beta0:\t True\n",
      "betad:\t True\n",
      "betau:\t True\n",
      "e0:\t True\n",
      "e0e0:\t True\n",
      "e0eu:\t True\n",
      "e0ed:\t True\n",
      "ed:\t True\n",
      "eded:\t True\n",
      "edeu:\t True\n",
      "eu:\t True\n",
      "eueu:\t True\n",
      "iota:\t True\n",
      "S:\t True\n"
     ]
    }
   ],
   "source": [
    "print('XtXi:\\t', np.allclose(XtXi, _XtXi))\n",
    "print('beta0:\\t', np.allclose(beta0, _beta0))\n",
    "print('betad:\\t', np.allclose(betad, _betad))\n",
    "print('betau:\\t', np.allclose(betau, _betau))\n",
    "print('e0:\\t', np.allclose(e0, _e0))\n",
    "print('e0e0:\\t', np.allclose(e0e0, _e0e0))\n",
    "print('e0eu:\\t', np.allclose(e0eu, _e0eu))\n",
    "print('e0ed:\\t', np.allclose(e0ed, _e0ed))\n",
    "\n",
    "print('ed:\\t', np.allclose(ed, _ed))\n",
    "print('eded:\\t', np.allclose(eded, _eded))\n",
    "print('edeu:\\t', np.allclose(edeu, _edeu))\n",
    "\n",
    "print('eu:\\t', np.allclose(eu, _eu))\n",
    "print('eueu:\\t', np.allclose(eueu, _eueu))\n",
    "\n",
    "print('iota:\\t', np.allclose(iota, _iota))\n",
    "\n",
    "print('S:\\t', np.allclose(S, _S))"
   ]
  },
  {
   "cell_type": "code",
   "execution_count": 56,
   "metadata": {
    "collapsed": true
   },
   "outputs": [],
   "source": [
    "def kernel(Rho, W, y, In, X, Betas, Delta, Thetas, Sigma2_e):\n",
    "    \"\"\"\n",
    "    The kernel of the log likelihood in equation 31 of Dong & Harris (2014)\n",
    "    \"\"\"\n",
    "    kern = (In - Rho * W) @ y - X @ Betas - Delta @ Thetas\n",
    "    ssds = kern.T @ kern\n",
    "    return -1 * ssds / (2 * Sigma2_e)"
   ]
  },
  {
   "cell_type": "code",
   "execution_count": 57,
   "metadata": {
    "collapsed": true
   },
   "outputs": [],
   "source": [
    "def logp(Rho, W, y, In, X, Betas, Delta, Thetas, Sigma2_e):\n",
    "    \"\"\"\n",
    "    the full log likelihood of Rho in equation 31 of Dong & Harris (2014)\n",
    "    \"\"\"\n",
    "    det = hlm.utils.splogdet(sp.csc_matrix(In - Rho * W))\n",
    "    kern = kernel(Rho, W, In, X, Betas, Delta, Thetas, Sigma2_e)\n",
    "    return det + kern"
   ]
  },
  {
   "cell_type": "code",
   "execution_count": 58,
   "metadata": {
    "collapsed": true
   },
   "outputs": [],
   "source": [
    "kernels = np.vstack([kernel(r, W, y, In, X, Betas, Delta, Thetas, Sigma2_e) \n",
    "                    for r in rhogrid]).flatten()"
   ]
  },
  {
   "cell_type": "code",
   "execution_count": 59,
   "metadata": {
    "collapsed": true
   },
   "outputs": [],
   "source": [
    "import matplotlib.pyplot as plt\n",
    "from matplotlib import cm\n",
    "import seaborn as sns\n",
    "%matplotlib inline"
   ]
  },
  {
   "cell_type": "code",
   "execution_count": 60,
   "metadata": {
    "collapsed": false
   },
   "outputs": [
    {
     "data": {
      "image/png": "[encoded data removed]",
      "text/plain": [
       "<matplotlib.figure.Figure at 0x7efd58f17fd0>"
      ]
     },
     "metadata": {},
     "output_type": "display_data"
    }
   ],
   "source": [
    "plt.plot(rhogrid, -1*S, 'r')\n",
    "plt.plot(rhogrid, -1*_S.flatten(), 'k--')\n",
    "plt.plot(rhogrid, kernels, 'b-.')\n",
    "plt.show()"
   ]
  },
  {
   "cell_type": "code",
   "execution_count": 61,
   "metadata": {
    "collapsed": false
   },
   "outputs": [
    {
     "data": {
      "text/plain": [
       "array([[ 0.        ,  0.5       ,  0.4       ,  1.        ],\n",
       "       [ 0.        ,  0.5       ,  0.4       ,  1.        ],\n",
       "       [ 0.        ,  0.5       ,  0.4       ,  1.        ],\n",
       "       ..., \n",
       "       [ 0.96470588,  0.98235294,  0.4       ,  1.        ],\n",
       "       [ 0.97254902,  0.98627451,  0.4       ,  1.        ],\n",
       "       [ 0.98431373,  0.99215686,  0.4       ,  1.        ]])"
      ]
     },
     "execution_count": 61,
     "metadata": {},
     "output_type": "execute_result"
    }
   ],
   "source": [
    "cm.summer(rhogrid)"
   ]
  },
  {
   "cell_type": "code",
   "execution_count": 62,
   "metadata": {
    "collapsed": false
   },
   "outputs": [
    {
     "data": {
      "image/png": "[encoded data removed]",
      "text/plain": [
       "<matplotlib.figure.Figure at 0x7efd58c13780>"
      ]
     },
     "metadata": {},
     "output_type": "display_data"
    }
   ],
   "source": [
    "for r, py, color in zip(S, kernels, cm.coolwarm(rhogrid)):\n",
    "    r = -1 * r\n",
    "    plt.plot(r, py, color=color, marker='.')\n",
    "plt.show()"
   ]
  },
  {
   "cell_type": "code",
   "execution_count": 63,
   "metadata": {
    "collapsed": false
   },
   "outputs": [
    {
     "data": {
      "image/png": "[encoded data removed]",
      "text/plain": [
       "<matplotlib.figure.Figure at 0x7efd58c249e8>"
      ]
     },
     "metadata": {},
     "output_type": "display_data"
    },
    {
     "data": {
      "image/png": "[encoded data removed]",
      "text/plain": [
       "<matplotlib.figure.Figure at 0x7efd587ba390>"
      ]
     },
     "metadata": {},
     "output_type": "display_data"
    },
    {
     "data": {
      "image/png": "[encoded data removed]",
      "text/plain": [
       "<matplotlib.figure.Figure at 0x7efd58736ef0>"
      ]
     },
     "metadata": {},
     "output_type": "display_data"
    },
    {
     "data": {
      "image/png": "[encoded data removed]",
      "text/plain": [
       "<matplotlib.figure.Figure at 0x7efd5869ce48>"
      ]
     },
     "metadata": {},
     "output_type": "display_data"
    },
    {
     "data": {
      "image/png": "[encoded data removed]",
      "text/plain": [
       "<matplotlib.figure.Figure at 0x7efd58681ac8>"
      ]
     },
     "metadata": {},
     "output_type": "display_data"
    },
    {
     "data": {
      "image/png": "[encoded data removed]",
      "text/plain": [
       "<matplotlib.figure.Figure at 0x7efd585e5ba8>"
      ]
     },
     "metadata": {},
     "output_type": "display_data"
    },
    {
     "data": {
      "image/png": "[encoded data removed]",
      "text/plain": [
       "<matplotlib.figure.Figure at 0x7efd585c8f60>"
      ]
     },
     "metadata": {},
     "output_type": "display_data"
    },
    {
     "data": {
      "image/png": "[encoded data removed]",
      "text/plain": [
       "<matplotlib.figure.Figure at 0x7efd58532f98>"
      ]
     },
     "metadata": {},
     "output_type": "display_data"
    }
   ],
   "source": [
    "from mpl_toolkits.mplot3d import Axes3D\n",
    "from matplotlib import cm\n",
    "\n",
    "for angle in range(0,360,45):\n",
    "    fig = plt.figure()\n",
    "    ax = fig.gca(projection='3d')\n",
    "    Y = np.asarray(kernels)\n",
    "    X = -1*S/(2*Sigma2_e)\n",
    "    Z = rhogrid\n",
    "    surf = ax.plot3D(X, Y, Z)\n",
    "    ax.view_init(20, angle)\n",
    "    plt.show()"
   ]
  },
  {
   "cell_type": "markdown",
   "metadata": {},
   "source": [
    "### Lambda"
   ]
  },
  {
   "cell_type": "code",
   "execution_count": 64,
   "metadata": {
    "collapsed": false
   },
   "outputs": [
    {
     "name": "stderr",
     "output_type": "stream",
     "text": [
      "/home/ljw/dev/hlm/hlm/utils.py:145: ComplexWarning: Casting complex values to real discards the imaginary part\n",
      "  emin, emax = eigs.min().astype(float), eigs.max().astype(float)\n"
     ]
    }
   ],
   "source": [
    "M_emin, M_emax = hlm.utils.speigen_range(M)\n",
    "lambda_grid = np.arange(1./M_emin, 1./M_emax, .01)\n",
    "lambda_dets = [splogdet(sp.csc_matrix(Ij - lam * M)) for lam in lambda_grid]"
   ]
  },
  {
   "cell_type": "code",
   "execution_count": 65,
   "metadata": {
    "collapsed": true
   },
   "outputs": [],
   "source": [
    "%Rpush lambda_grid lambda_dets"
   ]
  },
  {
   "cell_type": "code",
   "execution_count": 66,
   "metadata": {
    "collapsed": false
   },
   "outputs": [],
   "source": [
    "%%R\n",
    "uu <- crossprod(Thetas)\n",
    "uMu <- as.numeric(t(Thetas) %*% M %*% Thetas)\n",
    "Mu <- as.numeric(M %*% Thetas)\n",
    "uMMu <- crossprod(Mu)\n",
    "\n",
    "nlambda <- length(lambda_grid)\n",
    "iota <- rep(1, times=nlambda)\n",
    "\n",
    "S_lambda <- uu*iota - 2*lambda_grid*uMu + lambda_grid^2*as.numeric(uMMu)"
   ]
  },
  {
   "cell_type": "code",
   "execution_count": 67,
   "metadata": {
    "collapsed": true
   },
   "outputs": [],
   "source": [
    "%Rpull S_lambda"
   ]
  },
  {
   "cell_type": "code",
   "execution_count": 68,
   "metadata": {
    "collapsed": true
   },
   "outputs": [],
   "source": [
    "uu = Thetas.T @ Thetas\n",
    "uMu = Thetas.T @ M @ Thetas\n",
    "Mu = M @ Thetas\n",
    "uMMu = Mu.T @ Mu\n",
    "\n",
    "iota = np.ones((len(lambda_grid), ))\n",
    "\n",
    "S_lambda_py = uu * iota - 2 * lambda_grid * uMu + lambda_grid**2 * uMMu"
   ]
  },
  {
   "cell_type": "code",
   "execution_count": 69,
   "metadata": {
    "collapsed": true
   },
   "outputs": [],
   "source": [
    "kernel = lambda x: (Thetas.T @ (Ij - x * M).T @ (Ij - x * M) @ Thetas)"
   ]
  },
  {
   "cell_type": "code",
   "execution_count": 70,
   "metadata": {
    "collapsed": true
   },
   "outputs": [],
   "source": [
    "S_lambda_kernels = np.array([kernel(lam) for lam in lambda_grid]).flatten()"
   ]
  },
  {
   "cell_type": "code",
   "execution_count": 71,
   "metadata": {
    "collapsed": false
   },
   "outputs": [
    {
     "data": {
      "image/png": "[encoded data removed]",
      "text/plain": [
       "<matplotlib.figure.Figure at 0x7efd585036d8>"
      ]
     },
     "metadata": {},
     "output_type": "display_data"
    }
   ],
   "source": [
    "plt.plot(lambda_grid, -1/(2*Sigma2_e)*S_lambda, 'r')\n",
    "plt.plot(lambda_grid, -1/(2*Sigma2_e)*S_lambda_py.flatten(), 'k--')\n",
    "plt.plot(lambda_grid, -1/(2*Sigma2_e)*S_lambda_kernels, 'b-.')\n",
    "plt.show()"
   ]
  },
  {
   "cell_type": "code",
   "execution_count": null,
   "metadata": {
    "collapsed": true
   },
   "outputs": [],
   "source": []
  }
 ],
 "metadata": {
  "kernelspec": {
   "display_name": "Python 3",
   "language": "python",
   "name": "python3"
  },
  "language_info": {
   "codemirror_mode": {
    "name": "ipython",
    "version": 3
   },
   "file_extension": ".py",
   "mimetype": "text/x-python",
   "name": "python",
   "nbconvert_exporter": "python",
   "pygments_lexer": "ipython3",
   "version": "3.5.1"
  }
 },
 "nbformat": 4,
 "nbformat_minor": 0
}
