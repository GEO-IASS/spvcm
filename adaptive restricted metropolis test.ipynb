{
 "cells": [
  {
   "cell_type": "markdown",
   "metadata": {},
   "source": [
    "The problem with a few of the sampling implementations for spatial parameters in SAR/ER setups I've seen so far is that they either: \n",
    "\n",
    "1. Incorrectly truncate the posterior distribution, resulting in biased parameter estimates. \n",
    "2. They don't implement Hastings Factors for truncated proposal distributions\n",
    "\n",
    "1 is a little harder to fix, but can be done by using MH sampling. 2 is simple, and just involves correctly calibrating the forward-backward transition probabilities."
   ]
  },
  {
   "cell_type": "code",
   "execution_count": 1,
   "metadata": {
    "collapsed": false
   },
   "outputs": [
    {
     "name": "stderr",
     "output_type": "stream",
     "text": [
      "/home/ljw/.local/lib/python2.7/site-packages/matplotlib/__init__.py:872: UserWarning: axes.color_cycle is deprecated and replaced with axes.prop_cycle; please use the latter.\n",
      "  warnings.warn(self.msg_depr % (key, alt_key))\n"
     ]
    }
   ],
   "source": [
    "from hlm.abstracts import Metropolis_Mixin, Abstract_Step, Gibbs\n",
    "import numpy as np\n",
    "np.random.seed(1000)\n",
    "import scipy.stats as stats\n",
    "import seaborn as sns\n",
    "import matplotlib.pyplot as plt\n",
    "%matplotlib inline"
   ]
  },
  {
   "cell_type": "markdown",
   "metadata": {},
   "source": [
    "The way I think it makes sense to implement new sampling methods is to make them mixin classes that add the necessary functionality, like the `Reg_Props_*` classes in pysal.\n",
    "\n",
    "So, we can make a class that will attempt to sample by default from a gamma distribution, which has a restricted range. If this is done without using the Hastings factor, the samples will be biased. Via the detailed balance constraints, the Metropolis-Hastings decision rule is to accept some proposal parameter value with probability:\n",
    "\n",
    "$$ min \\left\\{1, \\frac{P(x')}{P(x)} \\frac{g(x|x')}{g(x'|x)} \\right\\} $$\n",
    "\n",
    "where $g$ is the jump/proposal function, and $P$ is proportional to the sampling likelihood.\n",
    "\n",
    "Typically, if the sampling occurs on an unrestricted domain using a symmetric proposal, $g(x'|x) = g(x|x')$, so we only need to compare the ratio of probabilities. \n",
    "\n",
    "However, for spatial parameters, we usually implicitly restrict their sampling range. Thus, we need to actually compute the normalization factor for the restricted parameter.\n",
    "\n",
    "So, there are three functions that get added to a sampling step if it's defined using `Metropolis_Mixin:\n",
    "- `_metropolis` : the metropolis choice shown above for random walk sampling\n",
    "- `_propose` : propose a new parameter new value, and compute the forward and backward transition probabilities for that new value\n",
    "- `_adapt` : change the scale parameter of the propsal distribution to keep the rejection rate reasonable.\n",
    "\n",
    "to show how this works, let's define a test class and do some sampling. \n",
    "\n",
    "When an object calls `Metropolis_Mixin`, it gains the metropolis functions shown above. These can be overridden as necessary."
   ]
  },
  {
   "cell_type": "code",
   "execution_count": 2,
   "metadata": {
    "collapsed": true
   },
   "outputs": [],
   "source": [
    "class MetTest(Abstract_Step, Metropolis_Mixin):\n",
    "    def __init__(self, *args, **kwargs):\n",
    "        name = kwargs.pop('name', None)\n",
    "        Abstract_Step.__init__(self, name=name)\n",
    "        Metropolis_Mixin.__init__(self)\n",
    "        self.A = kwargs.pop('A', .1)\n",
    "        self.loc = kwargs.pop('loc', 5)\n",
    "        self.scale = kwargs.pop('scale', 10)\n",
    "        self._symproposal=True\n",
    "        self._target_logp = kwargs.pop('target', stats.gamma.logpdf)\n",
    "    def _logp(self, val):\n",
    "        return self._target_logp(val, self.A, loc=self.loc, scale=self.scale)\n",
    "    def _draw(self):\n",
    "        new = self._metropolis(self.sampler._state[self.__name__])\n",
    "        self.sampler._state[self.__name__] = new\n",
    "        return new"
   ]
  },
  {
   "cell_type": "code",
   "execution_count": 3,
   "metadata": {
    "collapsed": true
   },
   "outputs": [],
   "source": [
    "gamma = MetTest(name='gamma')\n",
    "gamma.initial = 6"
   ]
  },
  {
   "cell_type": "code",
   "execution_count": 4,
   "metadata": {
    "collapsed": true
   },
   "outputs": [],
   "source": [
    "G = Gibbs()\n",
    "G.add_steps(gamma)"
   ]
  },
  {
   "cell_type": "code",
   "execution_count": 5,
   "metadata": {
    "collapsed": false,
    "scrolled": true
   },
   "outputs": [],
   "source": [
    "G.sample(1000)"
   ]
  },
  {
   "cell_type": "code",
   "execution_count": 6,
   "metadata": {
    "collapsed": true
   },
   "outputs": [],
   "source": [
    "xspace = np.arange(0,30,.1)\n",
    "known = [stats.gamma.pdf(x, gamma.A, loc=gamma.loc, scale=gamma.scale) \n",
    "        for x in xspace]"
   ]
  },
  {
   "cell_type": "code",
   "execution_count": 7,
   "metadata": {
    "collapsed": false
   },
   "outputs": [
    {
     "data": {
      "text/plain": [
       "[<matplotlib.lines.Line2D at 0x7f27e378cb50>]"
      ]
     },
     "execution_count": 7,
     "metadata": {},
     "output_type": "execute_result"
    },
    {
     "data": {
      "image/png": "[encoded data removed]",
      "text/plain": [
       "<matplotlib.figure.Figure at 0x7f27e377e910>"
      ]
     },
     "metadata": {},
     "output_type": "display_data"
    }
   ],
   "source": [
    "plt.hist(np.array(G.trace['gamma']), normed=True, bins=20)\n",
    "plt.plot(xspace, known)"
   ]
  },
  {
   "cell_type": "markdown",
   "metadata": {},
   "source": [
    "So, our empirical distribution is pretty close to the theoretical distribution."
   ]
  },
  {
   "cell_type": "code",
   "execution_count": 8,
   "metadata": {
    "collapsed": false
   },
   "outputs": [
    {
     "data": {
      "text/plain": [
       "0.516"
      ]
     },
     "execution_count": 8,
     "metadata": {},
     "output_type": "execute_result"
    }
   ],
   "source": [
    "gamma.accept_rate"
   ]
  },
  {
   "cell_type": "markdown",
   "metadata": {},
   "source": [
    "Our accept rate is right on the money.\n",
    "\n",
    "If we wanted to, we could change the default scale parameter of the proposal:"
   ]
  },
  {
   "cell_type": "code",
   "execution_count": 9,
   "metadata": {
    "collapsed": false
   },
   "outputs": [
    {
     "data": {
      "text/plain": [
       "1.0"
      ]
     },
     "execution_count": 9,
     "metadata": {},
     "output_type": "execute_result"
    }
   ],
   "source": [
    "gamma._move_size"
   ]
  },
  {
   "cell_type": "markdown",
   "metadata": {},
   "source": [
    "Let's see what happens when we reduce the scale of the proposal:"
   ]
  },
  {
   "cell_type": "code",
   "execution_count": 10,
   "metadata": {
    "collapsed": true
   },
   "outputs": [],
   "source": [
    "gamma._move_size = .8\n",
    "gamma.n_accepted = 0"
   ]
  },
  {
   "cell_type": "code",
   "execution_count": 11,
   "metadata": {
    "collapsed": false,
    "scrolled": true
   },
   "outputs": [],
   "source": [
    "G = Gibbs()\n",
    "G.add_steps(gamma)\n",
    "G.sample(1000)"
   ]
  },
  {
   "cell_type": "code",
   "execution_count": 12,
   "metadata": {
    "collapsed": false,
    "scrolled": true
   },
   "outputs": [
    {
     "data": {
      "text/plain": [
       "[<matplotlib.lines.Line2D at 0x7f27e3603290>]"
      ]
     },
     "execution_count": 12,
     "metadata": {},
     "output_type": "execute_result"
    },
    {
     "data": {
      "image/png": "[encoded data removed]",
      "text/plain": [
       "<matplotlib.figure.Figure at 0x7f27e360fe10>"
      ]
     },
     "metadata": {},
     "output_type": "display_data"
    }
   ],
   "source": [
    "plt.hist(np.array(G.trace['gamma']), normed=True, bins=20)\n",
    "plt.plot(xspace, known)"
   ]
  },
  {
   "cell_type": "code",
   "execution_count": 13,
   "metadata": {
    "collapsed": false
   },
   "outputs": [
    {
     "data": {
      "text/plain": [
       "0.369"
      ]
     },
     "execution_count": 13,
     "metadata": {},
     "output_type": "execute_result"
    }
   ],
   "source": [
    "gamma.accept_rate"
   ]
  },
  {
   "cell_type": "markdown",
   "metadata": {},
   "source": [
    "So, with a smaller step size, our acceptance rate gets worse. You can see in the distplot that the sampler is sitting right at the cusp of the domain and getting invalid values off the domain of the gamma, all the locations below 4. "
   ]
  },
  {
   "cell_type": "markdown",
   "metadata": {},
   "source": [
    "Typically, a way this can be fixed is to use adaptive tuning. Right now, the adapt rate is set to one by default:"
   ]
  },
  {
   "cell_type": "code",
   "execution_count": 14,
   "metadata": {
    "collapsed": false
   },
   "outputs": [
    {
     "data": {
      "text/plain": [
       "1"
      ]
     },
     "execution_count": 14,
     "metadata": {},
     "output_type": "execute_result"
    }
   ],
   "source": [
    "gamma._adapt_rate"
   ]
  },
  {
   "cell_type": "markdown",
   "metadata": {},
   "source": [
    "Meaning the scale parameter on the proposal never changes in response to the acceptance rate. \n",
    "\n",
    "Let's introduce some mild shaping, so that if we go out of the acceptance bounds, we shift the scale of the proposal. In addition, let's start with a large step so that the adaptation has enough information to reduce:"
   ]
  },
  {
   "cell_type": "code",
   "execution_count": 15,
   "metadata": {
    "collapsed": true
   },
   "outputs": [],
   "source": [
    "gamma._adapt_rate = 1.001\n",
    "gamma._move_size = 5\n",
    "gamma.n_accepted = 0"
   ]
  },
  {
   "cell_type": "markdown",
   "metadata": {},
   "source": [
    "Let's do a burnin adaptation of 100 steps, then proceed at whatever scale is found in the first 100 steps"
   ]
  },
  {
   "cell_type": "code",
   "execution_count": 16,
   "metadata": {
    "collapsed": false,
    "scrolled": true
   },
   "outputs": [],
   "source": [
    "G = Gibbs()\n",
    "G.add_steps(gamma)\n",
    "G.sample(100)\n",
    "gamma.adapt_rate = 1\n",
    "G.sample(1000)"
   ]
  },
  {
   "cell_type": "code",
   "execution_count": 17,
   "metadata": {
    "collapsed": false
   },
   "outputs": [
    {
     "data": {
      "text/plain": [
       "[<matplotlib.lines.Line2D at 0x7f27e3603ed0>]"
      ]
     },
     "execution_count": 17,
     "metadata": {},
     "output_type": "execute_result"
    },
    {
     "data": {
      "image/png": "[encoded data removed]",
      "text/plain": [
       "<matplotlib.figure.Figure at 0x7f27e3603c50>"
      ]
     },
     "metadata": {},
     "output_type": "display_data"
    }
   ],
   "source": [
    "plt.hist(np.array(G.trace['gamma'][100:]), normed=True, bins=20)\n",
    "plt.plot(xspace, known)"
   ]
  },
  {
   "cell_type": "code",
   "execution_count": 18,
   "metadata": {
    "collapsed": false
   },
   "outputs": [
    {
     "data": {
      "text/plain": [
       "13.956212568054086"
      ]
     },
     "execution_count": 18,
     "metadata": {},
     "output_type": "execute_result"
    }
   ],
   "source": [
    "gamma._move_size"
   ]
  },
  {
   "cell_type": "code",
   "execution_count": 19,
   "metadata": {
    "collapsed": false
   },
   "outputs": [
    {
     "data": {
      "text/plain": [
       "0.09727272727272727"
      ]
     },
     "execution_count": 19,
     "metadata": {},
     "output_type": "execute_result"
    }
   ],
   "source": [
    "gamma.accept_rate"
   ]
  },
  {
   "cell_type": "markdown",
   "metadata": {},
   "source": [
    "This gives us a very low acceptance rate, and we marginally oversample at the peak of the gamma, and do not get any samples far out in the tail of the distribution.\n",
    "\n",
    "This indicates that it is very easy for the metropolis to oversample on the edge of a domain, since its rejection rates increase dramatically, because:"
   ]
  },
  {
   "cell_type": "code",
   "execution_count": 20,
   "metadata": {
    "collapsed": false
   },
   "outputs": [
    {
     "data": {
      "text/plain": [
       "0.0"
      ]
     },
     "execution_count": 20,
     "metadata": {},
     "output_type": "execute_result"
    }
   ],
   "source": [
    "stats.gamma.pdf(3, gamma.A, loc=gamma.loc, scale=gamma.scale)"
   ]
  },
  {
   "cell_type": "markdown",
   "metadata": {},
   "source": [
    "The gamma function will never return probability in this space. \n",
    "\n",
    "But, we can improve our sampling using a correctly-truncated proposal. "
   ]
  },
  {
   "cell_type": "code",
   "execution_count": 21,
   "metadata": {
    "collapsed": true
   },
   "outputs": [],
   "source": [
    "from functools import partial"
   ]
  },
  {
   "cell_type": "code",
   "execution_count": 22,
   "metadata": {
    "collapsed": true
   },
   "outputs": [],
   "source": [
    "def trunc_propose(self, current_value):\n",
    "    current_low = (self.clip_low - current_value) / self._move_size\n",
    "    current_up = (self.clip_up - current_value) / self._move_size\n",
    "    new = stats.truncnorm.rvs(current_low, current_up, \n",
    "                          loc=current_value, scale=self._move_size)\n",
    "    #now, since we know the proposal is truncated, it's not symmetric\n",
    "    #so we actually need to calculate the hastings factor. To do this,\n",
    "    #we also have to calculate new relative clips:\n",
    "    new_low = (self.clip_low - new) / self._move_size\n",
    "    new_up = (self.clip_up - new) / self._move_size\n",
    "    \n",
    "    forward = stats.truncnorm.logpdf(new, current_low, current_up, \n",
    "                                     loc=current_value, scale=self._move_size)\n",
    "    backward = stats.truncnorm.logpdf(current_value, new_low, new_up, \n",
    "                                      loc=new, scale=self._move_size)\n",
    "    \n",
    "    return new, forward, backward"
   ]
  },
  {
   "cell_type": "code",
   "execution_count": 23,
   "metadata": {
    "collapsed": false,
    "scrolled": true
   },
   "outputs": [],
   "source": [
    "G = Gibbs()\n",
    "tprop = MetTest(name='trunc_proposal')\n",
    "tprop.initial = 6\n",
    "tprop._propose = partial(trunc_propose, tprop)\n",
    "tprop.clip_low = 4\n",
    "tprop.clip_up = 1000\n",
    "tprop._adapt_rate = 1.01\n",
    "G.add_steps(tprop)\n",
    "G.sample(100)\n",
    "tprop._adapt_rate = 1\n",
    "G.sample(1000)"
   ]
  },
  {
   "cell_type": "code",
   "execution_count": 24,
   "metadata": {
    "collapsed": false
   },
   "outputs": [
    {
     "data": {
      "text/plain": [
       "[<matplotlib.lines.Line2D at 0x7f27e33bebd0>]"
      ]
     },
     "execution_count": 24,
     "metadata": {},
     "output_type": "execute_result"
    },
    {
     "data": {
      "image/png": "[encoded data removed]",
      "text/plain": [
       "<matplotlib.figure.Figure at 0x7f27e3553190>"
      ]
     },
     "metadata": {},
     "output_type": "display_data"
    }
   ],
   "source": [
    "plt.hist(np.array(G.trace['trunc_proposal'][100:]), normed=True, bins=20)\n",
    "plt.plot(xspace, known)"
   ]
  },
  {
   "cell_type": "markdown",
   "metadata": {},
   "source": [
    "And, while we still oversample in the densest regions, the distribution is much closer our target than the original. "
   ]
  },
  {
   "cell_type": "markdown",
   "metadata": {},
   "source": [
    "But, what if we wanted to restrict the proposal distribution to be within a certain bounds on both sides, say if we're sampling from some kind of restricted or truncated distribution?"
   ]
  },
  {
   "cell_type": "code",
   "execution_count": 25,
   "metadata": {
    "collapsed": true
   },
   "outputs": [],
   "source": [
    "clip_low = -1\n",
    "clip_up = 4"
   ]
  },
  {
   "cell_type": "code",
   "execution_count": 26,
   "metadata": {
    "collapsed": true
   },
   "outputs": [],
   "source": [
    "def trunc_propose(self, current_value):\n",
    "    current_low = (self.clip_low - current_value) / self._move_size\n",
    "    current_up = (self.clip_up - current_value) / self._move_size\n",
    "    new = stats.truncnorm.rvs(current_low, current_up, \n",
    "                          loc=current_value, scale=self._move_size)\n",
    "    #now, since we know the proposal is truncated, it's not symmetric\n",
    "    #so we actually need to calculate the hastings factor. To do this,\n",
    "    #we also have to calculate new relative clips:\n",
    "    new_low = (self.clip_low - new) / self._move_size\n",
    "    new_up = (self.clip_up - new) / self._move_size\n",
    "    \n",
    "    forward = stats.truncnorm.logpdf(new, current_low, current_up, \n",
    "                                     loc=current_value, scale=self._move_size)\n",
    "    backward = stats.truncnorm.logpdf(current_value, new_low, new_up, \n",
    "                                      loc=new, scale=self._move_size)\n",
    "    \n",
    "    return new, forward, backward"
   ]
  },
  {
   "cell_type": "code",
   "execution_count": 27,
   "metadata": {
    "collapsed": true
   },
   "outputs": [],
   "source": [
    "from functools import partial\n",
    "def tnorm_logp(self, value):\n",
    "    return stats.truncnorm.logpdf(value, self.clip_low, self.clip_up, loc=2, scale=1)"
   ]
  },
  {
   "cell_type": "code",
   "execution_count": 28,
   "metadata": {
    "collapsed": false
   },
   "outputs": [],
   "source": [
    "G = Gibbs()\n",
    "tnorm = MetTest(name='trunc_norm')\n",
    "tnorm._logp = partial(tnorm_logp, tnorm)\n",
    "tnorm.initial = 3\n",
    "tnorm._propose = partial(trunc_propose, tnorm)\n",
    "tnorm.clip_low = clip_low\n",
    "tnorm.clip_up = clip_up\n",
    "tnorm._adapt_rate=1.001\n",
    "G.add_steps(tnorm)\n",
    "G.sample(100)\n",
    "tnorm._adapt_rate=1.0\n",
    "G.sample(10000)"
   ]
  },
  {
   "cell_type": "code",
   "execution_count": 29,
   "metadata": {
    "collapsed": false,
    "scrolled": true
   },
   "outputs": [
    {
     "data": {
      "text/plain": [
       "[<matplotlib.lines.Line2D at 0x7f27e3200d90>]"
      ]
     },
     "execution_count": 29,
     "metadata": {},
     "output_type": "execute_result"
    },
    {
     "data": {
      "image/png": "[encoded data removed]",
      "text/plain": [
       "<matplotlib.figure.Figure at 0x7f27e3415d10>"
      ]
     },
     "metadata": {},
     "output_type": "display_data"
    }
   ],
   "source": [
    "plt.hist(G.trace['trunc_norm'][100:], normed=True)\n",
    "xspace = np.arange(clip_low, clip_up, .001)\n",
    "y = [stats.truncnorm.pdf(x, clip_low, clip_up, loc=2, scale=1) for x in xspace]\n",
    "plt.plot(xspace, y)\n",
    "#sns.distplot(known_kde, kde=False, fit=stats.gamma, fit_kws={'alpha':.5, 'color':'r'})"
   ]
  },
  {
   "cell_type": "markdown",
   "metadata": {},
   "source": [
    "And so, now we have an adaptive metropolis sampler that can deal with arbitrarily-restricted parameters. "
   ]
  }
 ],
 "metadata": {
  "kernelspec": {
   "display_name": "Python 2",
   "language": "python",
   "name": "python2"
  },
  "language_info": {
   "codemirror_mode": {
    "name": "ipython",
    "version": 2
   },
   "file_extension": ".py",
   "mimetype": "text/x-python",
   "name": "python",
   "nbconvert_exporter": "python",
   "pygments_lexer": "ipython2",
   "version": "2.7.11"
  }
 },
 "nbformat": 4,
 "nbformat_minor": 0
}
